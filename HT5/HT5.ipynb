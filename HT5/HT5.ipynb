{
 "cells": [
  {
   "cell_type": "code",
   "execution_count": 1,
   "metadata": {},
   "outputs": [],
   "source": [
    "documents = [\n",
    "    {'type': 'passport', 'number': '2207 876234', 'name': 'Василий Гупкин'},\n",
    "    {'type': 'invoice', 'number': '11-2', 'name': 'Геннадий Покемонов'},\n",
    "    {'type': 'insurance', 'number': '10006', 'name': 'Аристарх Павлов'}\n",
    "]"
   ]
  },
  {
   "cell_type": "code",
   "execution_count": 2,
   "metadata": {},
   "outputs": [],
   "source": [
    "directories = {\n",
    "    '1': ['2207 876234', '11-2'],\n",
    "    '2': ['10006'],\n",
    "    '3': []\n",
    "}"
   ]
  },
  {
   "cell_type": "code",
   "execution_count": 3,
   "metadata": {},
   "outputs": [],
   "source": [
    "def people(documents):\n",
    "    number = input('Введите номер документа: ')\n",
    "    for docs in documents:\n",
    "        if number in docs.values():\n",
    "            print(docs['name'])\n",
    "            break\n",
    "    if number not in docs.values():\n",
    "            print('Документ отсутствует или номер указан неверно')"
   ]
  },
  {
   "cell_type": "code",
   "execution_count": 4,
   "metadata": {},
   "outputs": [
    {
     "name": "stdout",
     "output_type": "stream",
     "text": [
      "Введите номер документа: 11-2\n",
      "Геннадий Покемонов\n"
     ]
    }
   ],
   "source": [
    "#спрашивает номер документа и выводит имя человека, которому он принадлежит\n",
    "people(documents)"
   ]
  },
  {
   "cell_type": "code",
   "execution_count": 5,
   "metadata": {},
   "outputs": [],
   "source": [
    "def shelf(directories):\n",
    "    number = input('Введите номер документа: ')\n",
    "    vals_list = []\n",
    "    for keys,values in directories.items():\n",
    "        for vals in values:\n",
    "            vals_list.append(vals)\n",
    "            if number == vals:\n",
    "                print(keys)\n",
    "                break\n",
    "    if number not in vals_list:\n",
    "        print('Документ отсутствует или номер указан неверно')"
   ]
  },
  {
   "cell_type": "code",
   "execution_count": 6,
   "metadata": {},
   "outputs": [
    {
     "name": "stdout",
     "output_type": "stream",
     "text": [
      "Введите номер документа: 10006\n",
      "2\n"
     ]
    }
   ],
   "source": [
    "#спросит номер документа и выведет номер полки, на которой он находится\n",
    "shelf(directories)"
   ]
  },
  {
   "cell_type": "code",
   "execution_count": 7,
   "metadata": {},
   "outputs": [],
   "source": [
    "def listing(documents):\n",
    "    for docs in documents:\n",
    "        list_v = list(docs.values())\n",
    "        print(list_v[0], '\"'+list_v[1]+'\"', '\"'+list_v[2]+'\"')"
   ]
  },
  {
   "cell_type": "code",
   "execution_count": 8,
   "metadata": {},
   "outputs": [
    {
     "name": "stdout",
     "output_type": "stream",
     "text": [
      "passport \"2207 876234\" \"Василий Гупкин\"\n",
      "invoice \"11-2\" \"Геннадий Покемонов\"\n",
      "insurance \"10006\" \"Аристарх Павлов\"\n"
     ]
    }
   ],
   "source": [
    "#выведет список всех документов\n",
    "listing(documents)"
   ]
  },
  {
   "cell_type": "code",
   "execution_count": 9,
   "metadata": {},
   "outputs": [],
   "source": [
    "def add_shelf(directories):\n",
    "    num = input('Введите номер полки: ')\n",
    "    if num in directories:\n",
    "        print('Значение для ключа уже существует')\n",
    "    else:\n",
    "        print('Добавляю новый ключ')\n",
    "        directories[num] = []\n",
    "    print(directories)"
   ]
  },
  {
   "cell_type": "code",
   "execution_count": 10,
   "metadata": {},
   "outputs": [
    {
     "name": "stdout",
     "output_type": "stream",
     "text": [
      "Введите номер полки: 4\n",
      "Добавляю новый ключ\n",
      "{'1': ['2207 876234', '11-2'], '2': ['10006'], '3': [], '4': []}\n"
     ]
    }
   ],
   "source": [
    "#спросит номер новой полки и добавит ее в перечень\n",
    "add_shelf(directories)"
   ]
  },
  {
   "cell_type": "code",
   "execution_count": 11,
   "metadata": {},
   "outputs": [],
   "source": [
    "def delete(documents):\n",
    "    num =  input('Введите номер документа: ')\n",
    "    for docs in documents:\n",
    "        if num in docs.values():\n",
    "            documents.remove(docs)\n",
    "            break     \n",
    "    else:\n",
    "        print('Некорректно указан номер')\n",
    "    for values in directories.values():\n",
    "        for vals in values:\n",
    "            if num in vals:\n",
    "                values.remove(num)\n",
    "                print('Удаление завершено: ', directories)\n",
    "                print('Удаление завершено: ', documents)"
   ]
  },
  {
   "cell_type": "code",
   "execution_count": 12,
   "metadata": {},
   "outputs": [
    {
     "name": "stdout",
     "output_type": "stream",
     "text": [
      "Введите номер документа: 10006\n",
      "Удаление завершено:  {'1': ['2207 876234', '11-2'], '2': [], '3': [], '4': []}\n",
      "Удаление завершено:  [{'type': 'passport', 'number': '2207 876234', 'name': 'Василий Гупкин'}, {'type': 'invoice', 'number': '11-2', 'name': 'Геннадий Покемонов'}]\n"
     ]
    }
   ],
   "source": [
    "#спросит номер документа и удалит его из каталога и из перечня полок\n",
    "delete(documents)"
   ]
  },
  {
   "cell_type": "code",
   "execution_count": 13,
   "metadata": {},
   "outputs": [],
   "source": [
    "def move(directories):\n",
    "    num = input('Введите номер документа: ')\n",
    "    x = input('Введите номер полки: ')\n",
    "    vals_list = []\n",
    "    for keys, values in directories.items():\n",
    "        for vals in values:\n",
    "            vals_list.append(vals)\n",
    "            if num in vals and x in directories.keys():\n",
    "                values.remove(num)\n",
    "                break\n",
    "    if num not in vals_list:\n",
    "        print('Документ отсутствует или номер указан неверно')\n",
    "    if x in directories.keys() and num in vals_list:\n",
    "        directories[x].append(num)\n",
    "        print('Перемещение завершено: ', directories)\n",
    "    if x not in directories.keys():\n",
    "        print('Полка отсутствует!')"
   ]
  },
  {
   "cell_type": "code",
   "execution_count": 14,
   "metadata": {},
   "outputs": [
    {
     "name": "stdout",
     "output_type": "stream",
     "text": [
      "Введите номер документа: 11-2\n",
      "Введите номер полки: 4\n",
      "Перемещение завершено:  {'1': ['2207 876234'], '2': [], '3': [], '4': ['11-2']}\n"
     ]
    }
   ],
   "source": [
    "#спросит номер документа и целевую полку и переместит его с текущей полки на целевую\n",
    "move(directories)"
   ]
  },
  {
   "cell_type": "code",
   "execution_count": 15,
   "metadata": {},
   "outputs": [],
   "source": [
    "def add(documents, directories):\n",
    "    num = input('Введите номер документа: ')\n",
    "    type_doc = input('Введите тип документа: ')\n",
    "    name_person = input('Введите имя и фамилию персоны: ')\n",
    "    number_shel = input('Введите номер полки: ')\n",
    "    docs_list = []\n",
    "    for docs in documents:\n",
    "        for el in docs.values():\n",
    "            docs_list.append(el)\n",
    "    if num in docs_list:\n",
    "        print('Данный документ уже есть в базе')\n",
    "    if num not in docs_list and number_shel in directories.keys():\n",
    "        documents.append({'type': type_doc, 'number': num, 'name': name_person})\n",
    "        directories[number_shel].append(num)\n",
    "        print('Новый документ успешно добавлен в базу: ', 'Реестр документов: ', documents, 'Хранилище полок: ', directories, sep='\\n')\n",
    "    if number_shel not in directories.keys():\n",
    "        print('Данная полка не существует')"
   ]
  },
  {
   "cell_type": "code",
   "execution_count": 16,
   "metadata": {},
   "outputs": [
    {
     "name": "stdout",
     "output_type": "stream",
     "text": [
      "Введите номер документа: 124-56\n",
      "Введите тип документа: passport\n",
      "Введите имя и фамилию персоны: Николай Иванов\n",
      "Введите номер полки: 4\n",
      "Новый документ успешно добавлен в базу: \n",
      "Реестр документов: \n",
      "[{'type': 'passport', 'number': '2207 876234', 'name': 'Василий Гупкин'}, {'type': 'invoice', 'number': '11-2', 'name': 'Геннадий Покемонов'}, {'type': 'passport', 'number': '124-56', 'name': 'Николай Иванов'}]\n",
      "Хранилище полок: \n",
      "{'1': ['2207 876234'], '2': [], '3': [], '4': ['11-2', '124-56']}\n"
     ]
    }
   ],
   "source": [
    "#добавит новый документ в каталог и в перечень полок, спросив его номер, тип, имя владельца и номер полки\n",
    "add(documents, directories)"
   ]
  },
  {
   "cell_type": "code",
   "execution_count": 17,
   "metadata": {},
   "outputs": [],
   "source": [
    "#Сборка\n",
    "def main():\n",
    "    while True:\n",
    "        user_input = input('Введите команду: ')\n",
    "        if user_input == 'p' or user_input == 'people':\n",
    "            people(documents)\n",
    "        elif user_input == 's' or user_input == 'shelf':\n",
    "            shelf(directories)\n",
    "        elif user_input == 'l' or user_input == 'list':\n",
    "            listing(documents)\n",
    "        elif user_input == 'as' or user_input == 'add shelf':\n",
    "            add_shelf(directories)\n",
    "        elif user_input == 'd' or user_input == 'delete':\n",
    "            delete(documents)\n",
    "        elif user_input == 'm' or user_input == 'move':\n",
    "            move(directories)\n",
    "        elif user_input == 'a' or user_input == 'add':\n",
    "            add(documents, directories)\n",
    "            break"
   ]
  },
  {
   "cell_type": "code",
   "execution_count": 18,
   "metadata": {},
   "outputs": [
    {
     "name": "stdout",
     "output_type": "stream",
     "text": [
      "Введите команду: p\n",
      "Введите номер документа: 11-2\n",
      "Геннадий Покемонов\n",
      "Введите команду: shelf\n",
      "Введите номер документа: 111\n",
      "Документ отсутствует или номер указан неверно\n",
      "Введите команду: shelf\n",
      "Введите номер документа: 11-2\n",
      "4\n",
      "Введите команду: list\n",
      "passport \"2207 876234\" \"Василий Гупкин\"\n",
      "invoice \"11-2\" \"Геннадий Покемонов\"\n",
      "passport \"124-56\" \"Николай Иванов\"\n",
      "Введите команду: as\n",
      "Введите номер полки: 4\n",
      "Значение для ключа уже существует\n",
      "{'1': ['2207 876234'], '2': [], '3': [], '4': ['11-2', '124-56']}\n",
      "Введите команду: d\n",
      "Введите номер документа: 11-2\n",
      "Удаление завершено:  {'1': ['2207 876234'], '2': [], '3': [], '4': ['124-56']}\n",
      "Удаление завершено:  [{'type': 'passport', 'number': '2207 876234', 'name': 'Василий Гупкин'}, {'type': 'passport', 'number': '124-56', 'name': 'Николай Иванов'}]\n",
      "Введите команду: m\n",
      "Введите номер документа: 124-56\n",
      "Введите номер полки: 3\n",
      "Перемещение завершено:  {'1': ['2207 876234'], '2': [], '3': ['124-56'], '4': []}\n",
      "Введите команду: a\n",
      "Введите номер документа: 205-14\n",
      "Введите тип документа: passport\n",
      "Введите имя и фамилию персоны: Nik Tune\n",
      "Введите номер полки: 10\n",
      "Данная полка не существует\n"
     ]
    }
   ],
   "source": [
    "main()"
   ]
  },
  {
   "cell_type": "code",
   "execution_count": null,
   "metadata": {},
   "outputs": [],
   "source": []
  }
 ],
 "metadata": {
  "kernelspec": {
   "display_name": "Python 3",
   "language": "python",
   "name": "python3"
  },
  "language_info": {
   "codemirror_mode": {
    "name": "ipython",
    "version": 3
   },
   "file_extension": ".py",
   "mimetype": "text/x-python",
   "name": "python",
   "nbconvert_exporter": "python",
   "pygments_lexer": "ipython3",
   "version": "3.7.6"
  }
 },
 "nbformat": 4,
 "nbformat_minor": 4
}
