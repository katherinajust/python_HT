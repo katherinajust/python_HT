{
 "cells": [
  {
   "cell_type": "code",
   "execution_count": 1,
   "metadata": {},
   "outputs": [
    {
     "name": "stdout",
     "output_type": "stream",
     "text": [
      "{'visit1': ['Москва', 'Россия']}\n",
      "{'visit3': ['Владимир', 'Россия']}\n",
      "{'visit7': ['Тула', 'Россия']}\n",
      "{'visit8': ['Тула', 'Россия']}\n",
      "{'visit9': ['Курск', 'Россия']}\n",
      "{'visit10': ['Архангельск', 'Россия']}\n"
     ]
    }
   ],
   "source": [
    "#Задача 1\n",
    "geo_logs = [\n",
    "    {'visit1': ['Москва', 'Россия']},\n",
    "    {'visit2': ['Дели', 'Индия']},\n",
    "    {'visit3': ['Владимир', 'Россия']},\n",
    "    {'visit4': ['Лиссабон', 'Португалия']},\n",
    "    {'visit5': ['Париж', 'Франция']},\n",
    "    {'visit6': ['Лиссабон', 'Португалия']},\n",
    "    {'visit7': ['Тула', 'Россия']},\n",
    "    {'visit8': ['Тула', 'Россия']},\n",
    "    {'visit9': ['Курск', 'Россия']},\n",
    "    {'visit10': ['Архангельск', 'Россия']}\n",
    "]\n",
    "\n",
    "filtr_gl = []\n",
    "for el in geo_logs:\n",
    "    for keys,values in el.items():\n",
    "        country = 'Россия'\n",
    "        if country in values:\n",
    "            new_gl = {keys: values for (keys,values) in el.items()}\n",
    "            print(new_gl)"
   ]
  },
  {
   "cell_type": "code",
   "execution_count": 2,
   "metadata": {},
   "outputs": [
    {
     "name": "stdout",
     "output_type": "stream",
     "text": [
      "[213, 15, 54, 119, 98, 35]\n"
     ]
    }
   ],
   "source": [
    "#Задача 2\n",
    "ids = {'user1': [213, 213, 213, 15, 213], \n",
    "       'user2': [54, 54, 119, 119, 119], \n",
    "       'user3': [213, 98, 98, 35]}\n",
    "my_list = []\n",
    "\n",
    "for values in ids.values():\n",
    "    for numbers in values:\n",
    "        #вариант решения а): \n",
    "        if numbers not in my_list: \n",
    "            my_list.append(numbers)\n",
    "print(my_list)\n",
    "#вариант решения b), без применения 'if -- not in':\n",
    "#my_list = list(set(my_list))\n",
    "#print(my_list)"
   ]
  },
  {
   "cell_type": "code",
   "execution_count": 3,
   "metadata": {},
   "outputs": [
    {
     "name": "stdout",
     "output_type": "stream",
     "text": [
      "Запросов из 2 слов 42.86 %\n",
      "Запросов из 3 слов 57.14 %\n"
     ]
    }
   ],
   "source": [
    "#Задача 3\n",
    "queries = [\n",
    "    'смотреть сериалы онлайн',\n",
    "    'новости спорта',\n",
    "    'афиша кино',\n",
    "    'курс доллара',\n",
    "    'сериалы этим летом',\n",
    "    'курс по питону',\n",
    "    'сериалы про спорт',\n",
    "]\n",
    "\n",
    "total_queries = len(queries)\n",
    "total_len_words = []\n",
    "for length in queries:\n",
    "    len_words = len(length.split(' '))\n",
    "    total_len_words.append(len_words)\n",
    "unique_words = list(set(total_len_words))\n",
    "for el in unique_words:\n",
    "    print('Запросов из', el, 'слов', round(total_len_words.count(el)*100/total_queries, 2), '%')"
   ]
  },
  {
   "cell_type": "code",
   "execution_count": 4,
   "metadata": {},
   "outputs": [
    {
     "name": "stdout",
     "output_type": "stream",
     "text": [
      "yandex\n"
     ]
    }
   ],
   "source": [
    "#Задача 4 - сложный путь:\n",
    "stats = {'facebook': 55, 'yandex': 120, 'vk': 115, 'google': 99, 'email': 42, 'ok': 98}\n",
    "values_list = []\n",
    "keys_list = []\n",
    "for keys, values in stats.items():\n",
    "    values_list.append(values)\n",
    "    keys_list.append(keys)\n",
    "max_value = max(values_list)\n",
    "total = zip(values_list, keys_list)\n",
    "total = list(total)\n",
    "for result in total:\n",
    "    if max_value in result:\n",
    "        print(result[1])       "
   ]
  },
  {
   "cell_type": "code",
   "execution_count": 5,
   "metadata": {},
   "outputs": [
    {
     "name": "stdout",
     "output_type": "stream",
     "text": [
      "yandex\n"
     ]
    }
   ],
   "source": [
    "#Задача 4 - простой путь (позже догадалась):\n",
    "stats = {'facebook': 55, 'yandex': 120, 'vk': 115, 'google': 99, 'email': 42, 'ok': 98}\n",
    "values_list = 0\n",
    "keys_list = []\n",
    "for keys, values in stats.items(): \n",
    "    if values > values_list:\n",
    "        values_list = values\n",
    "        keys_list = keys\n",
    "print(keys_list)"
   ]
  },
  {
   "cell_type": "code",
   "execution_count": 6,
   "metadata": {},
   "outputs": [
    {
     "name": "stdout",
     "output_type": "stream",
     "text": [
      "{'2018-01-01': {'yandex': {'cpc': 100}}}\n"
     ]
    }
   ],
   "source": [
    "#Задача 5\n",
    "my_list = ['2018-01-01', 'yandex', 'cpc', 100]\n",
    "my_dict = {my_list[-2]: my_list[-1]}\n",
    "new_list = my_list[: -2]\n",
    "#print(new_list)\n",
    "new_list.reverse()\n",
    "#print(new_list)\n",
    "for el in new_list:\n",
    "    my_dict = {el:my_dict}\n",
    "print(my_dict)"
   ]
  },
  {
   "cell_type": "code",
   "execution_count": null,
   "metadata": {},
   "outputs": [],
   "source": []
  }
 ],
 "metadata": {
  "kernelspec": {
   "display_name": "Python 3",
   "language": "python",
   "name": "python3"
  },
  "language_info": {
   "codemirror_mode": {
    "name": "ipython",
    "version": 3
   },
   "file_extension": ".py",
   "mimetype": "text/x-python",
   "name": "python",
   "nbconvert_exporter": "python",
   "pygments_lexer": "ipython3",
   "version": "3.7.6"
  }
 },
 "nbformat": 4,
 "nbformat_minor": 4
}
