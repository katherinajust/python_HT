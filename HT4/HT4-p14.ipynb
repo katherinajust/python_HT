{
 "cells": [
  {
   "cell_type": "code",
   "execution_count": 18,
   "metadata": {},
   "outputs": [
    {
     "name": "stdout",
     "output_type": "stream",
     "text": [
      "[213, 15, 54, 119, 98, 35]\n"
     ]
    }
   ],
   "source": [
    "#Задача 1\n",
    "ids = {'user1': [213, 213, 213, 15, 213], \n",
    "       'user2': [54, 54, 119, 119, 119], \n",
    "       'user3': [213, 98, 98, 35]}\n",
    "my_list = []\n",
    "\n",
    "for values in ids.values():\n",
    "    for numbers in values:\n",
    "        #вариант решения а): \n",
    "        if numbers not in my_list: \n",
    "            my_list.append(numbers)\n",
    "print(my_list)\n",
    "#вариант решения b), без применения 'if -- not in':\n",
    "#my_list = list(set(my_list))\n",
    "#print(my_list)"
   ]
  },
  {
   "cell_type": "code",
   "execution_count": 19,
   "metadata": {},
   "outputs": [
    {
     "name": "stdout",
     "output_type": "stream",
     "text": [
      "Запросов из 2 слов 42.86 %\n",
      "Запросов из 3 слов 57.14 %\n"
     ]
    }
   ],
   "source": [
    "#Задача 2\n",
    "queries = [\n",
    "    'смотреть сериалы онлайн',\n",
    "    'новости спорта',\n",
    "    'афиша кино',\n",
    "    'курс доллара',\n",
    "    'сериалы этим летом',\n",
    "    'курс по питону',\n",
    "    'сериалы про спорт',\n",
    "]\n",
    "\n",
    "total_queries = len(queries)\n",
    "total_len_words = []\n",
    "for length in queries:\n",
    "    len_words = len(length.split(' '))\n",
    "    total_len_words.append(len_words)\n",
    "unique_words = list(set(total_len_words))\n",
    "for el in unique_words:\n",
    "    print('Запросов из', el, 'слов', round(total_len_words.count(el)*100/total_queries, 2), '%')"
   ]
  },
  {
   "cell_type": "code",
   "execution_count": 20,
   "metadata": {},
   "outputs": [
    {
     "name": "stdout",
     "output_type": "stream",
     "text": [
      "{'vk': {'revenue': 103, 'cost': 98, 'ROI': 5.1}, 'yandex': {'revenue': 179, 'cost': 153, 'ROI': 16.99}, 'facebook': {'revenue': 103, 'cost': 110, 'ROI': -6.36}, 'adwords': {'revenue': 35, 'cost': 34, 'ROI': 2.94}, 'twitter': {'revenue': 11, 'cost': 24, 'ROI': -54.17}}\n"
     ]
    }
   ],
   "source": [
    "#Задача 3\n",
    "results = {\n",
    "'vk': {'revenue': 103, 'cost': 98},\n",
    "'yandex': {'revenue': 179, 'cost': 153},\n",
    "'facebook': {'revenue': 103, 'cost': 110},\n",
    "'adwords': {'revenue': 35, 'cost': 34},\n",
    "'twitter': {'revenue': 11, 'cost': 24},\n",
    "}\n",
    "for values in results.values():\n",
    "    ROI = round((values['revenue']/values['cost']-1)*100, 2)\n",
    "    values['ROI'] = ROI\n",
    "print(results)"
   ]
  },
  {
   "cell_type": "code",
   "execution_count": 21,
   "metadata": {},
   "outputs": [
    {
     "name": "stdout",
     "output_type": "stream",
     "text": [
      "Максимальный объем продаж на канале: yandex\n"
     ]
    }
   ],
   "source": [
    "#Задача 4:\n",
    "stats = {'facebook': 55, 'yandex': 120, 'vk': 115, 'google': 99, 'email': 42, 'ok': 98}\n",
    "values_list = 0\n",
    "keys_list = []\n",
    "for keys, values in stats.items(): \n",
    "    if values > values_list:\n",
    "        values_list = values\n",
    "        keys_list = keys\n",
    "print('Максимальный объем продаж на канале:', keys_list)"
   ]
  },
  {
   "cell_type": "code",
   "execution_count": 22,
   "metadata": {},
   "outputs": [
    {
     "name": "stdout",
     "output_type": "stream",
     "text": [
      "{'2018-01-01': {'yandex': {'cpc': 100}}}\n"
     ]
    }
   ],
   "source": [
    "#Задача 5\n",
    "my_list = ['2018-01-01', 'yandex', 'cpc', 100]\n",
    "my_dict = {my_list[-2]: my_list[-1]}\n",
    "new_list = my_list[: -2]\n",
    "#print(new_list)\n",
    "new_list.reverse()\n",
    "#print(new_list)\n",
    "for el in new_list:\n",
    "    my_dict = {el:my_dict}\n",
    "print(my_dict)"
   ]
  }
 ],
 "metadata": {
  "kernelspec": {
   "display_name": "Python 3",
   "language": "python",
   "name": "python3"
  },
  "language_info": {
   "codemirror_mode": {
    "name": "ipython",
    "version": 3
   },
   "file_extension": ".py",
   "mimetype": "text/x-python",
   "name": "python",
   "nbconvert_exporter": "python",
   "pygments_lexer": "ipython3",
   "version": "3.7.6"
  }
 },
 "nbformat": 4,
 "nbformat_minor": 4
}
