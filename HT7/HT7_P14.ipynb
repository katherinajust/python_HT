{
 "cells": [
  {
   "cell_type": "code",
   "execution_count": 20,
   "metadata": {},
   "outputs": [],
   "source": [
    "#Задание 1\n",
    "from datetime import datetime"
   ]
  },
  {
   "cell_type": "code",
   "execution_count": 21,
   "metadata": {},
   "outputs": [
    {
     "data": {
      "text/plain": [
       "datetime.datetime(2002, 10, 2, 0, 0)"
      ]
     },
     "execution_count": 21,
     "metadata": {},
     "output_type": "execute_result"
    }
   ],
   "source": [
    "#The Moscow Times\n",
    "date_MT = 'Wednesday, October 2, 2002'\n",
    "date_MT_result = datetime.strptime(date_MT, '%A, %B %d, %Y')\n",
    "date_MT_result"
   ]
  },
  {
   "cell_type": "code",
   "execution_count": 22,
   "metadata": {},
   "outputs": [
    {
     "data": {
      "text/plain": [
       "datetime.datetime(2013, 10, 11, 0, 0)"
      ]
     },
     "execution_count": 22,
     "metadata": {},
     "output_type": "execute_result"
    }
   ],
   "source": [
    "#The Guardian\n",
    "date_Gu = 'Friday, 11.10.13'\n",
    "date_Gu_result = datetime.strptime(date_Gu, '%A, %d.%m.%y')\n",
    "date_Gu_result"
   ]
  },
  {
   "cell_type": "code",
   "execution_count": 23,
   "metadata": {},
   "outputs": [
    {
     "data": {
      "text/plain": [
       "datetime.datetime(1977, 8, 18, 0, 0)"
      ]
     },
     "execution_count": 23,
     "metadata": {},
     "output_type": "execute_result"
    }
   ],
   "source": [
    "#Daily News\n",
    "date_DN = 'Thursday, 18 August 1977'\n",
    "date_DN_result = datetime.strptime(date_DN, '%A, %d %B %Y')\n",
    "date_DN_result"
   ]
  },
  {
   "cell_type": "code",
   "execution_count": 24,
   "metadata": {},
   "outputs": [],
   "source": [
    "#Задание 2\n",
    "stream = ['2018-04-02', '2018-02-29', '2018-19-02']"
   ]
  },
  {
   "cell_type": "code",
   "execution_count": 25,
   "metadata": {},
   "outputs": [],
   "source": [
    "def check(stream):\n",
    "    error_counter = 0\n",
    "    for el in stream:\n",
    "        try:\n",
    "            el_date = datetime.strptime(el, '%Y-%m-%d')\n",
    "        except:\n",
    "            error_counter += 1\n",
    "            print('Ошибка в данных: {}'.format(el))\n",
    "    print('Количество битых строк', error_counter)"
   ]
  },
  {
   "cell_type": "code",
   "execution_count": 26,
   "metadata": {},
   "outputs": [
    {
     "name": "stdout",
     "output_type": "stream",
     "text": [
      "Ошибка в данных: 2018-02-29\n",
      "Ошибка в данных: 2018-19-02\n",
      "Количество битых строк 2\n"
     ]
    }
   ],
   "source": [
    "check(stream)"
   ]
  },
  {
   "cell_type": "code",
   "execution_count": 27,
   "metadata": {},
   "outputs": [],
   "source": [
    "#Задание 2(точно по заданию)\n",
    "stream = ['2018-04-02', '2018-02-29', '2018-19-02']\n",
    "def check_date(stream):\n",
    "    for el in stream:\n",
    "        try:\n",
    "            el_date = datetime.strptime(el, '%Y-%m-%d')\n",
    "            print('true')\n",
    "        except:\n",
    "            print('false')"
   ]
  },
  {
   "cell_type": "code",
   "execution_count": 28,
   "metadata": {},
   "outputs": [
    {
     "name": "stdout",
     "output_type": "stream",
     "text": [
      "true\n",
      "false\n",
      "false\n"
     ]
    }
   ],
   "source": [
    "check_date(stream)"
   ]
  },
  {
   "cell_type": "code",
   "execution_count": 29,
   "metadata": {},
   "outputs": [],
   "source": [
    "#Задание 3\n",
    "from datetime import timedelta"
   ]
  },
  {
   "cell_type": "code",
   "execution_count": 30,
   "metadata": {},
   "outputs": [],
   "source": [
    "def date_range():\n",
    "    start_date = input('Введите дату начала отсчета в формате YYYY-MM-DD: ')\n",
    "    end_date = input('Введите дату завершения отсчета в формате YYYY-MM-DD: ')\n",
    "    empty_list = []\n",
    "\n",
    "    try:\n",
    "        start_date_result = datetime.strptime(start_date, '%Y-%m-%d')\n",
    "        end_date_result = datetime.strptime(end_date, '%Y-%m-%d')\n",
    "\n",
    "        if start_date_result > end_date_result:\n",
    "            print(empty_list)\n",
    "        else:\n",
    "            while start_date_result <= end_date_result:\n",
    "                print(start_date_result.strftime('%Y-%m-%d'))\n",
    "                start_date_result += timedelta(days=1)\n",
    "    except:\n",
    "        print(empty_list)"
   ]
  },
  {
   "cell_type": "code",
   "execution_count": 31,
   "metadata": {},
   "outputs": [
    {
     "name": "stdout",
     "output_type": "stream",
     "text": [
      "Введите дату начала отсчета в формате YYYY-MM-DD: 2002-10-11\n",
      "Введите дату завершения отсчета в формате YYYY-MM-DD: 2002-10-13\n",
      "2002-10-11\n",
      "2002-10-12\n",
      "2002-10-13\n"
     ]
    }
   ],
   "source": [
    "date_range()"
   ]
  },
  {
   "cell_type": "code",
   "execution_count": 32,
   "metadata": {},
   "outputs": [],
   "source": [
    "#Задание 4\n",
    "DEFAULT_USER_COUNT = 3\n",
    "\n",
    "def delete_and_return_last_user(region, default_list=['A100', 'A101', 'A102']):\n",
    "    \"\"\"\n",
    "    Удаляет из списка default_list последнего пользователя \n",
    "    и возвращает ID нового последнего пользователя.\n",
    "    \"\"\"\n",
    "    element_to_delete = default_list[-1]\n",
    "    default_list.remove(element_to_delete)\n",
    "    \n",
    "    return default_list[DEFAULT_USER_COUNT-2]"
   ]
  },
  {
   "cell_type": "code",
   "execution_count": null,
   "metadata": {},
   "outputs": [],
   "source": [
    "#1 - индекс вне диапазона cписка\n",
    "#2 - На вход подается массив, он создается только один раз. \n",
    "#При следующем вызове функции, пользуемся тем же массивом, который поменяли в прошлый раз.\n"
   ]
  },
  {
   "cell_type": "code",
   "execution_count": null,
   "metadata": {},
   "outputs": [],
   "source": []
  }
 ],
 "metadata": {
  "kernelspec": {
   "display_name": "Python 3",
   "language": "python",
   "name": "python3"
  },
  "language_info": {
   "codemirror_mode": {
    "name": "ipython",
    "version": 3
   },
   "file_extension": ".py",
   "mimetype": "text/x-python",
   "name": "python",
   "nbconvert_exporter": "python",
   "pygments_lexer": "ipython3",
   "version": "3.7.6"
  }
 },
 "nbformat": 4,
 "nbformat_minor": 4
}
