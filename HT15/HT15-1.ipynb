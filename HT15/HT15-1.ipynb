{
 "cells": [
  {
   "cell_type": "code",
   "execution_count": 1,
   "metadata": {},
   "outputs": [],
   "source": [
    "import requests\n",
    "from bs4 import BeautifulSoup\n",
    "import pandas as pd\n",
    "import json"
   ]
  },
  {
   "cell_type": "code",
   "execution_count": 20,
   "metadata": {},
   "outputs": [],
   "source": [
    "#Задание 1\n",
    "words = ['технологии', 'ИИ', 'Netflix']\n",
    "URL = 'https://habr.com/ru/all/'"
   ]
  },
  {
   "cell_type": "code",
   "execution_count": 23,
   "metadata": {},
   "outputs": [],
   "source": [
    "class posts_check:\n",
    "    def __init__(self, format_='value'):\n",
    "        self.format = 'value'\n",
    "        \n",
    "    def search(self, URL):\n",
    "        req = requests.get(URL)\n",
    "        soup = BeautifulSoup(req.text, 'html.parser')\n",
    "        self.articles = soup.find_all('article', class_ = 'post post_preview')\n",
    "        return self.articles\n",
    "\n",
    "    def result(self, words):\n",
    "        article_list = []\n",
    "        for el in self.search(URL):\n",
    "            for x in words:\n",
    "                if x in str(el):\n",
    "                    article_list.append(el)\n",
    "        article_date = list(map(lambda x: x.find('span', class_ = 'post__time'), article_list))\n",
    "        article_title = list(map(lambda x: x.find('h2', class_ = 'post__title').get_text(), article_list))\n",
    "        article_link = list(map(lambda x: x.find('a', class_ = 'post__title_link' ).get('href'), article_list))\n",
    "        df = pd.DataFrame({'Дата': article_date, 'Название':article_title, 'Ссылка':article_link })\n",
    "        return df"
   ]
  },
  {
   "cell_type": "code",
   "execution_count": 24,
   "metadata": {},
   "outputs": [
    {
     "data": {
      "text/html": [
       "<div>\n",
       "<style scoped>\n",
       "    .dataframe tbody tr th:only-of-type {\n",
       "        vertical-align: middle;\n",
       "    }\n",
       "\n",
       "    .dataframe tbody tr th {\n",
       "        vertical-align: top;\n",
       "    }\n",
       "\n",
       "    .dataframe thead th {\n",
       "        text-align: right;\n",
       "    }\n",
       "</style>\n",
       "<table border=\"1\" class=\"dataframe\">\n",
       "  <thead>\n",
       "    <tr style=\"text-align: right;\">\n",
       "      <th></th>\n",
       "      <th>Дата</th>\n",
       "      <th>Название</th>\n",
       "      <th>Ссылка</th>\n",
       "    </tr>\n",
       "  </thead>\n",
       "  <tbody>\n",
       "    <tr>\n",
       "      <th>0</th>\n",
       "      <td>[вчера в 23:59]</td>\n",
       "      <td>\\nВсё о проекте «Спутниковый интернет Starlink...</td>\n",
       "      <td>https://habr.com/ru/post/533270/</td>\n",
       "    </tr>\n",
       "    <tr>\n",
       "      <th>1</th>\n",
       "      <td>[вчера в 22:29]</td>\n",
       "      <td>\\nИнтернет вещей по-русски. Помехоустойчивое к...</td>\n",
       "      <td>https://habr.com/ru/post/531532/</td>\n",
       "    </tr>\n",
       "    <tr>\n",
       "      <th>2</th>\n",
       "      <td>[вчера в 22:21]</td>\n",
       "      <td>\\nАнализируй Facebook: ИИ научили диагностиров...</td>\n",
       "      <td>https://habr.com/ru/company/selectel/blog/533228/</td>\n",
       "    </tr>\n",
       "    <tr>\n",
       "      <th>3</th>\n",
       "      <td>[вчера в 20:08]</td>\n",
       "      <td>\\nЗапуск Netflix на телевизорах и приставках. ...</td>\n",
       "      <td>https://habr.com/ru/post/533248/</td>\n",
       "    </tr>\n",
       "    <tr>\n",
       "      <th>4</th>\n",
       "      <td>[вчера в 19:19]</td>\n",
       "      <td>\\nКовыряемся внутри умной тепловой камеры с ми...</td>\n",
       "      <td>https://habr.com/ru/company/itelma/blog/533250/</td>\n",
       "    </tr>\n",
       "    <tr>\n",
       "      <th>5</th>\n",
       "      <td>[вчера в 18:56]</td>\n",
       "      <td>\\nКак далеки мы от беспроводного электричества?\\n</td>\n",
       "      <td>https://habr.com/ru/company/skillfactory/blog/...</td>\n",
       "    </tr>\n",
       "    <tr>\n",
       "      <th>6</th>\n",
       "      <td>[вчера в 18:14]</td>\n",
       "      <td>\\nПостроение инфраструктуры распределенной тра...</td>\n",
       "      <td>https://habr.com/ru/company/otus/blog/533234/</td>\n",
       "    </tr>\n",
       "  </tbody>\n",
       "</table>\n",
       "</div>"
      ],
      "text/plain": [
       "              Дата                                           Название  \\\n",
       "0  [вчера в 23:59]  \\nВсё о проекте «Спутниковый интернет Starlink...   \n",
       "1  [вчера в 22:29]  \\nИнтернет вещей по-русски. Помехоустойчивое к...   \n",
       "2  [вчера в 22:21]  \\nАнализируй Facebook: ИИ научили диагностиров...   \n",
       "3  [вчера в 20:08]  \\nЗапуск Netflix на телевизорах и приставках. ...   \n",
       "4  [вчера в 19:19]  \\nКовыряемся внутри умной тепловой камеры с ми...   \n",
       "5  [вчера в 18:56]  \\nКак далеки мы от беспроводного электричества?\\n   \n",
       "6  [вчера в 18:14]  \\nПостроение инфраструктуры распределенной тра...   \n",
       "\n",
       "                                              Ссылка  \n",
       "0                   https://habr.com/ru/post/533270/  \n",
       "1                   https://habr.com/ru/post/531532/  \n",
       "2  https://habr.com/ru/company/selectel/blog/533228/  \n",
       "3                   https://habr.com/ru/post/533248/  \n",
       "4    https://habr.com/ru/company/itelma/blog/533250/  \n",
       "5  https://habr.com/ru/company/skillfactory/blog/...  \n",
       "6      https://habr.com/ru/company/otus/blog/533234/  "
      ]
     },
     "execution_count": 24,
     "metadata": {},
     "output_type": "execute_result"
    }
   ],
   "source": [
    "posts_check().result(words)"
   ]
  },
  {
   "cell_type": "code",
   "execution_count": 29,
   "metadata": {},
   "outputs": [
    {
     "data": {
      "text/html": [
       "<div>\n",
       "<style scoped>\n",
       "    .dataframe tbody tr th:only-of-type {\n",
       "        vertical-align: middle;\n",
       "    }\n",
       "\n",
       "    .dataframe tbody tr th {\n",
       "        vertical-align: top;\n",
       "    }\n",
       "\n",
       "    .dataframe thead th {\n",
       "        text-align: right;\n",
       "    }\n",
       "</style>\n",
       "<table border=\"1\" class=\"dataframe\">\n",
       "  <thead>\n",
       "    <tr style=\"text-align: right;\">\n",
       "      <th></th>\n",
       "      <th>site</th>\n",
       "      <th>description</th>\n",
       "      <th>publishDate</th>\n",
       "    </tr>\n",
       "  </thead>\n",
       "  <tbody>\n",
       "    <tr>\n",
       "      <th>0</th>\n",
       "      <td>tumblr.com</td>\n",
       "      <td>In May 2016, microblogging platform Tumblr rev...</td>\n",
       "      <td>2016-10-25T00:00:00Z</td>\n",
       "    </tr>\n",
       "    <tr>\n",
       "      <th>1</th>\n",
       "      <td>canva.com</td>\n",
       "      <td>In May 2019, graphic-design site Canva's datab...</td>\n",
       "      <td>2019-06-13T00:00:00Z</td>\n",
       "    </tr>\n",
       "    <tr>\n",
       "      <th>2</th>\n",
       "      <td>interpals.net</td>\n",
       "      <td>In November 2015, InterPals Penpals' user data...</td>\n",
       "      <td>2017-06-01T00:00:00Z</td>\n",
       "    </tr>\n",
       "  </tbody>\n",
       "</table>\n",
       "</div>"
      ],
      "text/plain": [
       "            site                                        description  \\\n",
       "0     tumblr.com  In May 2016, microblogging platform Tumblr rev...   \n",
       "1      canva.com  In May 2019, graphic-design site Canva's datab...   \n",
       "2  interpals.net  In November 2015, InterPals Penpals' user data...   \n",
       "\n",
       "            publishDate  \n",
       "0  2016-10-25T00:00:00Z  \n",
       "1  2019-06-13T00:00:00Z  \n",
       "2  2017-06-01T00:00:00Z  "
      ]
     },
     "execution_count": 29,
     "metadata": {},
     "output_type": "execute_result"
    }
   ],
   "source": [
    "#Задание 2\n",
    "emails_list = ['nechay123@ya.ru', 'e.nechay@gos-fin.ru']\n",
    "url = 'https://identityprotection.avast.com/v1/web/query/site-breaches/unauthorized-data'\n",
    "headers = {'Vaar-Header-App-Product': 'hackcheck-web-avast','Vaar-Version': '0'}\n",
    "addresses = {'emailAddresses': emails_list}\n",
    "res = requests.post(url, json=addresses, headers=headers)\n",
    "df = pd.DataFrame(res.json()['breaches']).T.reset_index() \n",
    "df = df[['site', 'description', 'publishDate']]\n",
    "df"
   ]
  },
  {
   "cell_type": "code",
   "execution_count": null,
   "metadata": {},
   "outputs": [],
   "source": []
  }
 ],
 "metadata": {
  "kernelspec": {
   "display_name": "Python 3",
   "language": "python",
   "name": "python3"
  },
  "language_info": {
   "codemirror_mode": {
    "name": "ipython",
    "version": 3
   },
   "file_extension": ".py",
   "mimetype": "text/x-python",
   "name": "python",
   "nbconvert_exporter": "python",
   "pygments_lexer": "ipython3",
   "version": "3.7.6"
  }
 },
 "nbformat": 4,
 "nbformat_minor": 4
}
