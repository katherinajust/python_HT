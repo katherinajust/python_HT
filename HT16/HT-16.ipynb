{
 "cells": [
  {
   "cell_type": "code",
   "execution_count": 116,
   "metadata": {},
   "outputs": [],
   "source": [
    "import matplotlib.pyplot as plt\n",
    "import pandas as pd"
   ]
  },
  {
   "cell_type": "code",
   "execution_count": 117,
   "metadata": {},
   "outputs": [],
   "source": [
    "from pylab import rcParams\n",
    "rcParams['figure.figsize'] = 13,6"
   ]
  },
  {
   "cell_type": "code",
   "execution_count": 172,
   "metadata": {},
   "outputs": [],
   "source": [
    "import seaborn as sns"
   ]
  },
  {
   "cell_type": "code",
   "execution_count": 118,
   "metadata": {},
   "outputs": [
    {
     "data": {
      "text/html": [
       "<div>\n",
       "<style scoped>\n",
       "    .dataframe tbody tr th:only-of-type {\n",
       "        vertical-align: middle;\n",
       "    }\n",
       "\n",
       "    .dataframe tbody tr th {\n",
       "        vertical-align: top;\n",
       "    }\n",
       "\n",
       "    .dataframe thead th {\n",
       "        text-align: right;\n",
       "    }\n",
       "</style>\n",
       "<table border=\"1\" class=\"dataframe\">\n",
       "  <thead>\n",
       "    <tr style=\"text-align: right;\">\n",
       "      <th></th>\n",
       "      <th>Region</th>\n",
       "      <th>Location</th>\n",
       "      <th>Company</th>\n",
       "      <th>LinkedIn_profile</th>\n",
       "      <th>Result</th>\n",
       "      <th>Call</th>\n",
       "    </tr>\n",
       "  </thead>\n",
       "  <tbody>\n",
       "    <tr>\n",
       "      <th>0</th>\n",
       "      <td>Asia pacific</td>\n",
       "      <td>Afganistan</td>\n",
       "      <td>Identity Infotech</td>\n",
       "      <td>https://www.linkedin.com/in/qrasouli</td>\n",
       "      <td>NaN</td>\n",
       "      <td>NaN</td>\n",
       "    </tr>\n",
       "    <tr>\n",
       "      <th>1</th>\n",
       "      <td>Asia pacific</td>\n",
       "      <td>Afganistan</td>\n",
       "      <td>Green Zone ICT Services</td>\n",
       "      <td>https://www.linkedin.com/in/mohammad-amin-nasa...</td>\n",
       "      <td>NaN</td>\n",
       "      <td>NaN</td>\n",
       "    </tr>\n",
       "    <tr>\n",
       "      <th>2</th>\n",
       "      <td>Asia pacific</td>\n",
       "      <td>Afganistan</td>\n",
       "      <td>Green Zone ICT Services</td>\n",
       "      <td>https://www.linkedin.com/in/sahebdad-azizi-884...</td>\n",
       "      <td>NaN</td>\n",
       "      <td>NaN</td>\n",
       "    </tr>\n",
       "    <tr>\n",
       "      <th>3</th>\n",
       "      <td>Asia pacific</td>\n",
       "      <td>Afganistan</td>\n",
       "      <td>Green Zone ICT Services</td>\n",
       "      <td>https://www.linkedin.com/in/obaid-aslami-418a0...</td>\n",
       "      <td>NaN</td>\n",
       "      <td>NaN</td>\n",
       "    </tr>\n",
       "    <tr>\n",
       "      <th>4</th>\n",
       "      <td>Asia pacific</td>\n",
       "      <td>Afganistan</td>\n",
       "      <td>YRMPT</td>\n",
       "      <td>https://www.linkedin.com/in/ahmad-tamim-malik-...</td>\n",
       "      <td>NaN</td>\n",
       "      <td>NaN</td>\n",
       "    </tr>\n",
       "  </tbody>\n",
       "</table>\n",
       "</div>"
      ],
      "text/plain": [
       "         Region    Location                  Company  \\\n",
       "0  Asia pacific  Afganistan        Identity Infotech   \n",
       "1  Asia pacific  Afganistan  Green Zone ICT Services   \n",
       "2  Asia pacific  Afganistan  Green Zone ICT Services   \n",
       "3  Asia pacific  Afganistan  Green Zone ICT Services   \n",
       "4  Asia pacific  Afganistan                    YRMPT   \n",
       "\n",
       "                                    LinkedIn_profile Result Call  \n",
       "0               https://www.linkedin.com/in/qrasouli    NaN  NaN  \n",
       "1  https://www.linkedin.com/in/mohammad-amin-nasa...    NaN  NaN  \n",
       "2  https://www.linkedin.com/in/sahebdad-azizi-884...    NaN  NaN  \n",
       "3  https://www.linkedin.com/in/obaid-aslami-418a0...    NaN  NaN  \n",
       "4  https://www.linkedin.com/in/ahmad-tamim-malik-...    NaN  NaN  "
      ]
     },
     "execution_count": 118,
     "metadata": {},
     "output_type": "execute_result"
    }
   ],
   "source": [
    "df_total = pd.read_excel('total_partners.xlsx')\n",
    "df_total = df_total[['Region', 'Location', 'Company', 'LinkedIn_profile', 'Result', 'Call']] \n",
    "df_total.head()"
   ]
  },
  {
   "cell_type": "code",
   "execution_count": 119,
   "metadata": {},
   "outputs": [
    {
     "data": {
      "text/html": [
       "<div>\n",
       "<style scoped>\n",
       "    .dataframe tbody tr th:only-of-type {\n",
       "        vertical-align: middle;\n",
       "    }\n",
       "\n",
       "    .dataframe tbody tr th {\n",
       "        vertical-align: top;\n",
       "    }\n",
       "\n",
       "    .dataframe thead th {\n",
       "        text-align: right;\n",
       "    }\n",
       "</style>\n",
       "<table border=\"1\" class=\"dataframe\">\n",
       "  <thead>\n",
       "    <tr style=\"text-align: right;\">\n",
       "      <th></th>\n",
       "      <th>Region</th>\n",
       "      <th>Location</th>\n",
       "      <th>Company</th>\n",
       "      <th>LinkedIn_profile</th>\n",
       "      <th>Result</th>\n",
       "      <th>Call</th>\n",
       "    </tr>\n",
       "  </thead>\n",
       "  <tbody>\n",
       "    <tr>\n",
       "      <th>count</th>\n",
       "      <td>1810</td>\n",
       "      <td>1810</td>\n",
       "      <td>1810</td>\n",
       "      <td>1810</td>\n",
       "      <td>758</td>\n",
       "      <td>45</td>\n",
       "    </tr>\n",
       "    <tr>\n",
       "      <th>unique</th>\n",
       "      <td>5</td>\n",
       "      <td>77</td>\n",
       "      <td>767</td>\n",
       "      <td>1810</td>\n",
       "      <td>5</td>\n",
       "      <td>1</td>\n",
       "    </tr>\n",
       "    <tr>\n",
       "      <th>top</th>\n",
       "      <td>MEA</td>\n",
       "      <td>Pakistan</td>\n",
       "      <td>mce Systems</td>\n",
       "      <td>https://www.linkedin.com/in/ahmad-salman-othma...</td>\n",
       "      <td>*</td>\n",
       "      <td>да</td>\n",
       "    </tr>\n",
       "    <tr>\n",
       "      <th>freq</th>\n",
       "      <td>899</td>\n",
       "      <td>97</td>\n",
       "      <td>13</td>\n",
       "      <td>1</td>\n",
       "      <td>392</td>\n",
       "      <td>45</td>\n",
       "    </tr>\n",
       "  </tbody>\n",
       "</table>\n",
       "</div>"
      ],
      "text/plain": [
       "       Region  Location      Company  \\\n",
       "count    1810      1810         1810   \n",
       "unique      5        77          767   \n",
       "top       MEA  Pakistan  mce Systems   \n",
       "freq      899        97           13   \n",
       "\n",
       "                                         LinkedIn_profile Result Call  \n",
       "count                                                1810    758   45  \n",
       "unique                                               1810      5    1  \n",
       "top     https://www.linkedin.com/in/ahmad-salman-othma...      *   да  \n",
       "freq                                                    1    392   45  "
      ]
     },
     "execution_count": 119,
     "metadata": {},
     "output_type": "execute_result"
    }
   ],
   "source": [
    "df_total.describe()\n",
    "\n",
    "#Представленные данные - демонстрируют статистику по реакциям на первичные инвайты интересующих персон из компаний-потенциальных\n",
    "#партнеров, по различным регионам, странам."
   ]
  },
  {
   "cell_type": "code",
   "execution_count": 120,
   "metadata": {},
   "outputs": [
    {
     "data": {
      "text/html": [
       "<div>\n",
       "<style scoped>\n",
       "    .dataframe tbody tr th:only-of-type {\n",
       "        vertical-align: middle;\n",
       "    }\n",
       "\n",
       "    .dataframe tbody tr th {\n",
       "        vertical-align: top;\n",
       "    }\n",
       "\n",
       "    .dataframe thead th {\n",
       "        text-align: right;\n",
       "    }\n",
       "</style>\n",
       "<table border=\"1\" class=\"dataframe\">\n",
       "  <thead>\n",
       "    <tr style=\"text-align: right;\">\n",
       "      <th></th>\n",
       "      <th>Region</th>\n",
       "      <th>%Interested</th>\n",
       "    </tr>\n",
       "  </thead>\n",
       "  <tbody>\n",
       "    <tr>\n",
       "      <th>0</th>\n",
       "      <td>Asia pacific</td>\n",
       "      <td>36.879433</td>\n",
       "    </tr>\n",
       "    <tr>\n",
       "      <th>1</th>\n",
       "      <td>CIS</td>\n",
       "      <td>28.571429</td>\n",
       "    </tr>\n",
       "    <tr>\n",
       "      <th>2</th>\n",
       "      <td>Europe</td>\n",
       "      <td>22.784810</td>\n",
       "    </tr>\n",
       "    <tr>\n",
       "      <th>3</th>\n",
       "      <td>MEA</td>\n",
       "      <td>39.512195</td>\n",
       "    </tr>\n",
       "    <tr>\n",
       "      <th>4</th>\n",
       "      <td>Southeast Asia</td>\n",
       "      <td>32.773109</td>\n",
       "    </tr>\n",
       "  </tbody>\n",
       "</table>\n",
       "</div>"
      ],
      "text/plain": [
       "           Region  %Interested\n",
       "0    Asia pacific    36.879433\n",
       "1             CIS    28.571429\n",
       "2          Europe    22.784810\n",
       "3             MEA    39.512195\n",
       "4  Southeast Asia    32.773109"
      ]
     },
     "execution_count": 120,
     "metadata": {},
     "output_type": "execute_result"
    }
   ],
   "source": [
    "#расчет контактных регионов от заинтересовавшихся компаний\n",
    "reg_df = df_total[['Region', 'Location', 'Company', 'Result', 'Call']] \n",
    "interested_regions = reg_df[((reg_df['Result'] == 'интересно')|(reg_df['Result'] == 'на перспективу')|(reg_df['Result'] == 'спорно'))].groupby('Region').Company.nunique() / reg_df.groupby('Region').Company.nunique() * 100\n",
    "interested_regions.reset_index().rename(columns = {'Company': '%Interested'})\n"
   ]
  },
  {
   "cell_type": "code",
   "execution_count": 121,
   "metadata": {},
   "outputs": [
    {
     "data": {
      "text/plain": [
       "<matplotlib.axes._subplots.AxesSubplot at 0xa9af2c8>"
      ]
     },
     "execution_count": 121,
     "metadata": {},
     "output_type": "execute_result"
    },
    {
     "data": {
      "image/png": "[encoded data removed]",
      "text/plain": [
       "<Figure size 936x432 with 1 Axes>"
      ]
     },
     "metadata": {
      "needs_background": "light"
     },
     "output_type": "display_data"
    }
   ],
   "source": [
    "interested_regions.sort_values().plot(kind='bar', title='Contact regions')"
   ]
  },
  {
   "cell_type": "code",
   "execution_count": 122,
   "metadata": {},
   "outputs": [],
   "source": [
    "#Гипотезы/выводы:\n",
    "# Более контактны регионы с малоразвитыми странами, отсюда интерес к партнерству? Хотят зацепиться за деньги при любой возм-ти?\n",
    "# Наименее контактна Европа, санкции / предвзятое отношение к РФ?\n",
    "# Страны CIS не проявили интереса, не интересно партнерство т.к. сами ищут партнеров на тех же рынках? (т.к. компании рассматривались из одной и той же отрасли)"
   ]
  },
  {
   "cell_type": "code",
   "execution_count": 123,
   "metadata": {},
   "outputs": [
    {
     "data": {
      "text/html": [
       "<div>\n",
       "<style scoped>\n",
       "    .dataframe tbody tr th:only-of-type {\n",
       "        vertical-align: middle;\n",
       "    }\n",
       "\n",
       "    .dataframe tbody tr th {\n",
       "        vertical-align: top;\n",
       "    }\n",
       "\n",
       "    .dataframe thead th {\n",
       "        text-align: right;\n",
       "    }\n",
       "</style>\n",
       "<table border=\"1\" class=\"dataframe\">\n",
       "  <thead>\n",
       "    <tr style=\"text-align: right;\">\n",
       "      <th></th>\n",
       "      <th>purchase</th>\n",
       "      <th>name</th>\n",
       "      <th>price_contract</th>\n",
       "      <th>guarantee_bid</th>\n",
       "      <th>guarantee_contract</th>\n",
       "      <th>date</th>\n",
       "      <th>month</th>\n",
       "      <th>type</th>\n",
       "      <th>class</th>\n",
       "      <th>platform</th>\n",
       "      <th>region</th>\n",
       "      <th>customer</th>\n",
       "      <th>winner</th>\n",
       "      <th>winner_price</th>\n",
       "    </tr>\n",
       "  </thead>\n",
       "  <tbody>\n",
       "    <tr>\n",
       "      <th>0</th>\n",
       "      <td>0162100019419000015</td>\n",
       "      <td>обслуживание зданий- уборка служебных помещений</td>\n",
       "      <td>429600.00</td>\n",
       "      <td>NaN</td>\n",
       "      <td>128880</td>\n",
       "      <td>2019-12-31 06:54:48.979</td>\n",
       "      <td>Декабрь</td>\n",
       "      <td>44-ФЗ</td>\n",
       "      <td>Электронный аукцион</td>\n",
       "      <td>Сбербанк-АСТ</td>\n",
       "      <td>66 Свердловская область</td>\n",
       "      <td>Межмуниципальный Отдел Министерства Внутренних...</td>\n",
       "      <td>ООО «Блеск Сервис»</td>\n",
       "      <td>300596.00</td>\n",
       "    </tr>\n",
       "    <tr>\n",
       "      <th>1</th>\n",
       "      <td>0162100013519000068</td>\n",
       "      <td>Оказание услуг по комплексной уборке служебных...</td>\n",
       "      <td>2108436.00</td>\n",
       "      <td>21084.36</td>\n",
       "      <td>10,00 %</td>\n",
       "      <td>2019-12-30 16:07:05.163</td>\n",
       "      <td>Декабрь</td>\n",
       "      <td>44-ФЗ</td>\n",
       "      <td>Электронный аукцион</td>\n",
       "      <td>Сбербанк-АСТ</td>\n",
       "      <td>66 Свердловская область</td>\n",
       "      <td>Межмуниципальное Управление Министерства Внутр...</td>\n",
       "      <td>ООО «Экспресс Блеск»</td>\n",
       "      <td>1584882.66</td>\n",
       "    </tr>\n",
       "    <tr>\n",
       "      <th>2</th>\n",
       "      <td>31908742380</td>\n",
       "      <td>1008-2019-01601. Оказание услуг по комплексной...</td>\n",
       "      <td>49643216.19</td>\n",
       "      <td>496433.00</td>\n",
       "      <td>NaN</td>\n",
       "      <td>2019-12-30 14:43:31.000</td>\n",
       "      <td>Декабрь</td>\n",
       "      <td>223-ФЗ</td>\n",
       "      <td>Закупка иного способа размещения</td>\n",
       "      <td>ETPRF.RU</td>\n",
       "      <td>66 Свердловская область</td>\n",
       "      <td>АО «Производственное Объединение «Уральский Оп...</td>\n",
       "      <td>NaN</td>\n",
       "      <td>NaN</td>\n",
       "    </tr>\n",
       "    <tr>\n",
       "      <th>3</th>\n",
       "      <td>0162300025819000034</td>\n",
       "      <td>Оказание услуг по уборке помещений</td>\n",
       "      <td>492114.36</td>\n",
       "      <td>NaN</td>\n",
       "      <td>5,00 %</td>\n",
       "      <td>2019-12-25 06:27:54.020</td>\n",
       "      <td>Декабрь</td>\n",
       "      <td>44-ФЗ</td>\n",
       "      <td>Электронный аукцион</td>\n",
       "      <td>Сбербанк-АСТ</td>\n",
       "      <td>66 Свердловская область</td>\n",
       "      <td>МКУ «Управление Образования Городского Округа ...</td>\n",
       "      <td>Андрияшкина Евгения Викторовна</td>\n",
       "      <td>166386.62</td>\n",
       "    </tr>\n",
       "    <tr>\n",
       "      <th>4</th>\n",
       "      <td>0362200064719000500</td>\n",
       "      <td>Оказание услуг по уборке помещений ГБУЗ СО \"Кр...</td>\n",
       "      <td>934631.20</td>\n",
       "      <td>NaN</td>\n",
       "      <td>10,00 %</td>\n",
       "      <td>2019-12-25 07:59:19.597</td>\n",
       "      <td>Декабрь</td>\n",
       "      <td>44-ФЗ</td>\n",
       "      <td>Электронный аукцион</td>\n",
       "      <td>Сбербанк-АСТ</td>\n",
       "      <td>66 Свердловская область</td>\n",
       "      <td>ГБУЗ Свердловской обл. «Красноуфимская Районна...</td>\n",
       "      <td>Каравашкин Андрей Александрович</td>\n",
       "      <td>619538.15</td>\n",
       "    </tr>\n",
       "  </tbody>\n",
       "</table>\n",
       "</div>"
      ],
      "text/plain": [
       "              purchase                                               name  \\\n",
       "0  0162100019419000015    обслуживание зданий- уборка служебных помещений   \n",
       "1  0162100013519000068  Оказание услуг по комплексной уборке служебных...   \n",
       "2          31908742380  1008-2019-01601. Оказание услуг по комплексной...   \n",
       "3  0162300025819000034                 Оказание услуг по уборке помещений   \n",
       "4  0362200064719000500  Оказание услуг по уборке помещений ГБУЗ СО \"Кр...   \n",
       "\n",
       "   price_contract  guarantee_bid guarantee_contract                    date  \\\n",
       "0       429600.00            NaN             128880 2019-12-31 06:54:48.979   \n",
       "1      2108436.00       21084.36            10,00 % 2019-12-30 16:07:05.163   \n",
       "2     49643216.19      496433.00                NaN 2019-12-30 14:43:31.000   \n",
       "3       492114.36            NaN             5,00 % 2019-12-25 06:27:54.020   \n",
       "4       934631.20            NaN            10,00 % 2019-12-25 07:59:19.597   \n",
       "\n",
       "     month    type                             class      platform  \\\n",
       "0  Декабрь   44-ФЗ               Электронный аукцион  Сбербанк-АСТ   \n",
       "1  Декабрь   44-ФЗ               Электронный аукцион  Сбербанк-АСТ   \n",
       "2  Декабрь  223-ФЗ  Закупка иного способа размещения      ETPRF.RU   \n",
       "3  Декабрь   44-ФЗ               Электронный аукцион  Сбербанк-АСТ   \n",
       "4  Декабрь   44-ФЗ               Электронный аукцион  Сбербанк-АСТ   \n",
       "\n",
       "                    region                                           customer  \\\n",
       "0  66 Свердловская область  Межмуниципальный Отдел Министерства Внутренних...   \n",
       "1  66 Свердловская область  Межмуниципальное Управление Министерства Внутр...   \n",
       "2  66 Свердловская область  АО «Производственное Объединение «Уральский Оп...   \n",
       "3  66 Свердловская область  МКУ «Управление Образования Городского Округа ...   \n",
       "4  66 Свердловская область  ГБУЗ Свердловской обл. «Красноуфимская Районна...   \n",
       "\n",
       "                            winner  winner_price  \n",
       "0               ООО «Блеск Сервис»     300596.00  \n",
       "1             ООО «Экспресс Блеск»    1584882.66  \n",
       "2                              NaN           NaN  \n",
       "3   Андрияшкина Евгения Викторовна     166386.62  \n",
       "4  Каравашкин Андрей Александрович     619538.15  "
      ]
     },
     "execution_count": 123,
     "metadata": {},
     "output_type": "execute_result"
    }
   ],
   "source": [
    "df = pd.read_excel('analytics.xlsx')\n",
    "df.columns = ['purchase','name', 'price_contract', 'guarantee_bid', 'guarantee_contract', 'date', 'month', 'type', 'class', 'platform', 'region', 'customer', 'winner', 'winner_price']\n",
    "df.head()"
   ]
  },
  {
   "cell_type": "code",
   "execution_count": 124,
   "metadata": {},
   "outputs": [
    {
     "data": {
      "text/html": [
       "<div>\n",
       "<style scoped>\n",
       "    .dataframe tbody tr th:only-of-type {\n",
       "        vertical-align: middle;\n",
       "    }\n",
       "\n",
       "    .dataframe tbody tr th {\n",
       "        vertical-align: top;\n",
       "    }\n",
       "\n",
       "    .dataframe thead th {\n",
       "        text-align: right;\n",
       "    }\n",
       "</style>\n",
       "<table border=\"1\" class=\"dataframe\">\n",
       "  <thead>\n",
       "    <tr style=\"text-align: right;\">\n",
       "      <th></th>\n",
       "      <th>price_contract</th>\n",
       "      <th>guarantee_bid</th>\n",
       "      <th>winner_price</th>\n",
       "    </tr>\n",
       "  </thead>\n",
       "  <tbody>\n",
       "    <tr>\n",
       "      <th>count</th>\n",
       "      <td>3.420000e+02</td>\n",
       "      <td>9.600000e+01</td>\n",
       "      <td>1.630000e+02</td>\n",
       "    </tr>\n",
       "    <tr>\n",
       "      <th>mean</th>\n",
       "      <td>2.966148e+06</td>\n",
       "      <td>9.514950e+04</td>\n",
       "      <td>1.227347e+06</td>\n",
       "    </tr>\n",
       "    <tr>\n",
       "      <th>std</th>\n",
       "      <td>1.050282e+07</td>\n",
       "      <td>3.867258e+05</td>\n",
       "      <td>2.450462e+06</td>\n",
       "    </tr>\n",
       "    <tr>\n",
       "      <th>min</th>\n",
       "      <td>1.702435e+04</td>\n",
       "      <td>6.726600e+02</td>\n",
       "      <td>5.447830e+03</td>\n",
       "    </tr>\n",
       "    <tr>\n",
       "      <th>25%</th>\n",
       "      <td>3.480612e+05</td>\n",
       "      <td>9.533030e+03</td>\n",
       "      <td>1.639672e+05</td>\n",
       "    </tr>\n",
       "    <tr>\n",
       "      <th>50%</th>\n",
       "      <td>9.321670e+05</td>\n",
       "      <td>1.871346e+04</td>\n",
       "      <td>3.324988e+05</td>\n",
       "    </tr>\n",
       "    <tr>\n",
       "      <th>75%</th>\n",
       "      <td>3.000042e+06</td>\n",
       "      <td>4.888053e+04</td>\n",
       "      <td>1.013059e+06</td>\n",
       "    </tr>\n",
       "    <tr>\n",
       "      <th>max</th>\n",
       "      <td>1.804000e+08</td>\n",
       "      <td>3.608000e+06</td>\n",
       "      <td>2.199207e+07</td>\n",
       "    </tr>\n",
       "  </tbody>\n",
       "</table>\n",
       "</div>"
      ],
      "text/plain": [
       "       price_contract  guarantee_bid  winner_price\n",
       "count    3.420000e+02   9.600000e+01  1.630000e+02\n",
       "mean     2.966148e+06   9.514950e+04  1.227347e+06\n",
       "std      1.050282e+07   3.867258e+05  2.450462e+06\n",
       "min      1.702435e+04   6.726600e+02  5.447830e+03\n",
       "25%      3.480612e+05   9.533030e+03  1.639672e+05\n",
       "50%      9.321670e+05   1.871346e+04  3.324988e+05\n",
       "75%      3.000042e+06   4.888053e+04  1.013059e+06\n",
       "max      1.804000e+08   3.608000e+06  2.199207e+07"
      ]
     },
     "execution_count": 124,
     "metadata": {},
     "output_type": "execute_result"
    }
   ],
   "source": [
    "df.describe()\n",
    "#Данные по контрактной системе закупок в Свердловской области в отрасли клининга за 2019й год"
   ]
  },
  {
   "cell_type": "code",
   "execution_count": 132,
   "metadata": {},
   "outputs": [
    {
     "data": {
      "text/html": [
       "<div>\n",
       "<style scoped>\n",
       "    .dataframe tbody tr th:only-of-type {\n",
       "        vertical-align: middle;\n",
       "    }\n",
       "\n",
       "    .dataframe tbody tr th {\n",
       "        vertical-align: top;\n",
       "    }\n",
       "\n",
       "    .dataframe thead th {\n",
       "        text-align: right;\n",
       "    }\n",
       "</style>\n",
       "<table border=\"1\" class=\"dataframe\">\n",
       "  <thead>\n",
       "    <tr style=\"text-align: right;\">\n",
       "      <th></th>\n",
       "      <th>purchase</th>\n",
       "    </tr>\n",
       "    <tr>\n",
       "      <th>month</th>\n",
       "      <th></th>\n",
       "    </tr>\n",
       "  </thead>\n",
       "  <tbody>\n",
       "    <tr>\n",
       "      <th>Январь</th>\n",
       "      <td>24</td>\n",
       "    </tr>\n",
       "    <tr>\n",
       "      <th>Февраль</th>\n",
       "      <td>40</td>\n",
       "    </tr>\n",
       "    <tr>\n",
       "      <th>Март</th>\n",
       "      <td>31</td>\n",
       "    </tr>\n",
       "    <tr>\n",
       "      <th>Апрель</th>\n",
       "      <td>22</td>\n",
       "    </tr>\n",
       "    <tr>\n",
       "      <th>Май</th>\n",
       "      <td>19</td>\n",
       "    </tr>\n",
       "    <tr>\n",
       "      <th>Июнь</th>\n",
       "      <td>36</td>\n",
       "    </tr>\n",
       "    <tr>\n",
       "      <th>Июль</th>\n",
       "      <td>19</td>\n",
       "    </tr>\n",
       "    <tr>\n",
       "      <th>Август</th>\n",
       "      <td>24</td>\n",
       "    </tr>\n",
       "    <tr>\n",
       "      <th>Сентябрь</th>\n",
       "      <td>33</td>\n",
       "    </tr>\n",
       "    <tr>\n",
       "      <th>Октябрь</th>\n",
       "      <td>34</td>\n",
       "    </tr>\n",
       "    <tr>\n",
       "      <th>Ноябрь</th>\n",
       "      <td>62</td>\n",
       "    </tr>\n",
       "    <tr>\n",
       "      <th>Декабрь</th>\n",
       "      <td>70</td>\n",
       "    </tr>\n",
       "  </tbody>\n",
       "</table>\n",
       "</div>"
      ],
      "text/plain": [
       "          purchase\n",
       "month             \n",
       "Январь          24\n",
       "Февраль         40\n",
       "Март            31\n",
       "Апрель          22\n",
       "Май             19\n",
       "Июнь            36\n",
       "Июль            19\n",
       "Август          24\n",
       "Сентябрь        33\n",
       "Октябрь         34\n",
       "Ноябрь          62\n",
       "Декабрь         70"
      ]
     },
     "execution_count": 132,
     "metadata": {},
     "output_type": "execute_result"
    }
   ],
   "source": [
    "month = ['Январь', 'Февраль', 'Март', 'Апрель', 'Май', 'Июнь', 'Июль', 'Август', 'Сентябрь', 'Октябрь', 'Ноябрь', 'Декабрь']\n",
    "df['month'] = pd.Categorical(df['month'], categories=month, ordered=True)\n",
    "dynamics_by_month = df[['month', 'purchase']].groupby('month').count()\n",
    "dynamics_by_month"
   ]
  },
  {
   "cell_type": "code",
   "execution_count": 133,
   "metadata": {},
   "outputs": [
    {
     "data": {
      "text/plain": [
       "Text(0, 0.5, 'Количество')"
      ]
     },
     "execution_count": 133,
     "metadata": {},
     "output_type": "execute_result"
    },
    {
     "data": {
      "image/png": "[encoded data removed]",
      "text/plain": [
       "<Figure size 936x432 with 1 Axes>"
      ]
     },
     "metadata": {
      "needs_background": "light"
     },
     "output_type": "display_data"
    }
   ],
   "source": [
    "plt.plot(dynamics_by_month.index, dynamics_by_month.purchase)\n",
    "plt.title('Динамика кол-ва закупок по месяцам')\n",
    "plt.xlabel('Месяц')\n",
    "plt.ylabel('Количество')"
   ]
  },
  {
   "cell_type": "code",
   "execution_count": null,
   "metadata": {},
   "outputs": [],
   "source": [
    "#Гипотезы/выводы:\n",
    "# Отрасль сезонная?\n",
    "# Большинство закупок в Ноябре-Декабре, вероятнее всего т.к. контракты заключаются преимущ-но на 12 мес?\n",
    "# Весна-лето не сезонный период, не лучшее время чтобы \"стартовать\" в этом направлении контрактной системы, будет сложно забрать контракт"
   ]
  },
  {
   "cell_type": "code",
   "execution_count": 170,
   "metadata": {},
   "outputs": [],
   "source": [
    "#Динамика закупок по месяцам в зависимости от типа\n",
    "new = df.pivot_table(index='month', columns='type', values='purchase', aggfunc=len).fillna(0)"
   ]
  },
  {
   "cell_type": "code",
   "execution_count": 173,
   "metadata": {},
   "outputs": [
    {
     "data": {
      "text/plain": [
       "<matplotlib.axes._subplots.AxesSubplot at 0xd45c608>"
      ]
     },
     "execution_count": 173,
     "metadata": {},
     "output_type": "execute_result"
    },
    {
     "data": {
      "image/png": "[encoded data removed]",
      "text/plain": [
       "<Figure size 936x432 with 2 Axes>"
      ]
     },
     "metadata": {
      "needs_background": "light"
     },
     "output_type": "display_data"
    }
   ],
   "source": [
    "sns.heatmap(new)"
   ]
  },
  {
   "cell_type": "code",
   "execution_count": null,
   "metadata": {},
   "outputs": [],
   "source": [
    "#Гипотезы/выводы:\n",
    "# Абсолютное преимущество закупок 44ФЗ приходится на Декабрь, в целом больше закупок 44ФЗ от общего кол-ва\n",
    "# 223 ФЗ сопоставим с сезоном 44ФЗ, сезон закупок 223 ФЗ начинается раньше - в Октябре\n",
    "# Коммерческих закупок меньше всего, никак не связаны с сезонностью гос. ситемы"
   ]
  },
  {
   "cell_type": "code",
   "execution_count": 177,
   "metadata": {},
   "outputs": [
    {
     "name": "stderr",
     "output_type": "stream",
     "text": [
      "C:\\Users\\user\\anaconda3\\lib\\site-packages\\ipykernel_launcher.py:2: SettingWithCopyWarning: \n",
      "A value is trying to be set on a copy of a slice from a DataFrame.\n",
      "Try using .loc[row_indexer,col_indexer] = value instead\n",
      "\n",
      "See the caveats in the documentation: https://pandas.pydata.org/pandas-docs/stable/user_guide/indexing.html#returning-a-view-versus-a-copy\n",
      "  \n"
     ]
    },
    {
     "data": {
      "text/html": [
       "<div>\n",
       "<style scoped>\n",
       "    .dataframe tbody tr th:only-of-type {\n",
       "        vertical-align: middle;\n",
       "    }\n",
       "\n",
       "    .dataframe tbody tr th {\n",
       "        vertical-align: top;\n",
       "    }\n",
       "\n",
       "    .dataframe thead th {\n",
       "        text-align: right;\n",
       "    }\n",
       "</style>\n",
       "<table border=\"1\" class=\"dataframe\">\n",
       "  <thead>\n",
       "    <tr style=\"text-align: right;\">\n",
       "      <th></th>\n",
       "      <th>type</th>\n",
       "      <th>month</th>\n",
       "      <th>price_contract</th>\n",
       "      <th>winner_price</th>\n",
       "      <th>mean_price</th>\n",
       "    </tr>\n",
       "  </thead>\n",
       "  <tbody>\n",
       "    <tr>\n",
       "      <th>0</th>\n",
       "      <td>44-ФЗ</td>\n",
       "      <td>Декабрь</td>\n",
       "      <td>429600.00</td>\n",
       "      <td>300596.00</td>\n",
       "      <td>30.028864</td>\n",
       "    </tr>\n",
       "    <tr>\n",
       "      <th>1</th>\n",
       "      <td>44-ФЗ</td>\n",
       "      <td>Декабрь</td>\n",
       "      <td>2108436.00</td>\n",
       "      <td>1584882.66</td>\n",
       "      <td>24.831360</td>\n",
       "    </tr>\n",
       "    <tr>\n",
       "      <th>3</th>\n",
       "      <td>44-ФЗ</td>\n",
       "      <td>Декабрь</td>\n",
       "      <td>492114.36</td>\n",
       "      <td>166386.62</td>\n",
       "      <td>66.189440</td>\n",
       "    </tr>\n",
       "    <tr>\n",
       "      <th>4</th>\n",
       "      <td>44-ФЗ</td>\n",
       "      <td>Декабрь</td>\n",
       "      <td>934631.20</td>\n",
       "      <td>619538.15</td>\n",
       "      <td>33.713089</td>\n",
       "    </tr>\n",
       "    <tr>\n",
       "      <th>5</th>\n",
       "      <td>44-ФЗ</td>\n",
       "      <td>Декабрь</td>\n",
       "      <td>1431596.00</td>\n",
       "      <td>638842.00</td>\n",
       "      <td>55.375539</td>\n",
       "    </tr>\n",
       "    <tr>\n",
       "      <th>...</th>\n",
       "      <td>...</td>\n",
       "      <td>...</td>\n",
       "      <td>...</td>\n",
       "      <td>...</td>\n",
       "      <td>...</td>\n",
       "    </tr>\n",
       "    <tr>\n",
       "      <th>407</th>\n",
       "      <td>44-ФЗ</td>\n",
       "      <td>Январь</td>\n",
       "      <td>80000.00</td>\n",
       "      <td>69999.00</td>\n",
       "      <td>12.501250</td>\n",
       "    </tr>\n",
       "    <tr>\n",
       "      <th>408</th>\n",
       "      <td>44-ФЗ</td>\n",
       "      <td>Январь</td>\n",
       "      <td>70000.00</td>\n",
       "      <td>59999.00</td>\n",
       "      <td>14.287143</td>\n",
       "    </tr>\n",
       "    <tr>\n",
       "      <th>409</th>\n",
       "      <td>44-ФЗ</td>\n",
       "      <td>Январь</td>\n",
       "      <td>154686.66</td>\n",
       "      <td>101000.00</td>\n",
       "      <td>34.706716</td>\n",
       "    </tr>\n",
       "    <tr>\n",
       "      <th>412</th>\n",
       "      <td>223-ФЗ</td>\n",
       "      <td>Январь</td>\n",
       "      <td>6441152.28</td>\n",
       "      <td>4750000.00</td>\n",
       "      <td>26.255431</td>\n",
       "    </tr>\n",
       "    <tr>\n",
       "      <th>413</th>\n",
       "      <td>223-ФЗ</td>\n",
       "      <td>Январь</td>\n",
       "      <td>7732753.00</td>\n",
       "      <td>7690000.00</td>\n",
       "      <td>0.552882</td>\n",
       "    </tr>\n",
       "  </tbody>\n",
       "</table>\n",
       "<p>163 rows × 5 columns</p>\n",
       "</div>"
      ],
      "text/plain": [
       "       type    month  price_contract  winner_price  mean_price\n",
       "0     44-ФЗ  Декабрь       429600.00     300596.00   30.028864\n",
       "1     44-ФЗ  Декабрь      2108436.00    1584882.66   24.831360\n",
       "3     44-ФЗ  Декабрь       492114.36     166386.62   66.189440\n",
       "4     44-ФЗ  Декабрь       934631.20     619538.15   33.713089\n",
       "5     44-ФЗ  Декабрь      1431596.00     638842.00   55.375539\n",
       "..      ...      ...             ...           ...         ...\n",
       "407   44-ФЗ   Январь        80000.00      69999.00   12.501250\n",
       "408   44-ФЗ   Январь        70000.00      59999.00   14.287143\n",
       "409   44-ФЗ   Январь       154686.66     101000.00   34.706716\n",
       "412  223-ФЗ   Январь      6441152.28    4750000.00   26.255431\n",
       "413  223-ФЗ   Январь      7732753.00    7690000.00    0.552882\n",
       "\n",
       "[163 rows x 5 columns]"
      ]
     },
     "execution_count": 177,
     "metadata": {},
     "output_type": "execute_result"
    }
   ],
   "source": [
    "count_price = df[['type', 'month','price_contract', 'winner_price']]\n",
    "count_price['mean_price'] = 100 - (count_price['winner_price'] * 100 / count_price['price_contract'])\n",
    "count_price.dropna()"
   ]
  },
  {
   "cell_type": "code",
   "execution_count": 179,
   "metadata": {},
   "outputs": [
    {
     "data": {
      "text/plain": [
       "<matplotlib.axes._subplots.AxesSubplot at 0xd609508>"
      ]
     },
     "execution_count": 179,
     "metadata": {},
     "output_type": "execute_result"
    },
    {
     "data": {
      "image/png": "[encoded data removed]",
      "text/plain": [
       "<Figure size 936x432 with 1 Axes>"
      ]
     },
     "metadata": {
      "needs_background": "light"
     },
     "output_type": "display_data"
    }
   ],
   "source": [
    "count_price.mean_price.plot(kind='box',\n",
    "                   title='Среднее снижение НМЦ в течение года%')"
   ]
  },
  {
   "cell_type": "code",
   "execution_count": null,
   "metadata": {},
   "outputs": [],
   "source": [
    "#Гипотезы/выводы:\n",
    "# Среднее снижение НМЦ в течение года в пределах примерно 20-40%\n",
    "# Чаще превалирует значительное снижение, чем небольшое (это говорит о тенденции к демпингу в отрасли)\n",
    "# Очень мало, но есть выбросы где снижение более 70%"
   ]
  }
 ],
 "metadata": {
  "kernelspec": {
   "display_name": "Python 3",
   "language": "python",
   "name": "python3"
  },
  "language_info": {
   "codemirror_mode": {
    "name": "ipython",
    "version": 3
   },
   "file_extension": ".py",
   "mimetype": "text/x-python",
   "name": "python",
   "nbconvert_exporter": "python",
   "pygments_lexer": "ipython3",
   "version": "3.7.6"
  }
 },
 "nbformat": 4,
 "nbformat_minor": 4
}
