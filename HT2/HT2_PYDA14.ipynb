{
 "cells": [
  {
   "cell_type": "code",
   "execution_count": 39,
   "metadata": {},
   "outputs": [
    {
     "name": "stdout",
     "output_type": "stream",
     "text": [
      "Введите первую фразу: кенг\n",
      "Введите вторую фразу: ке\n",
      "Фраза 1 длиннее фразы 2\n"
     ]
    }
   ],
   "source": [
    "#Задание 1\n",
    "long_phrase = input('Введите первую фразу: ')\n",
    "short_phrase = input('Введите вторую фразу: ')\n",
    "if len(long_phrase) > len(short_phrase):\n",
    "    print('Фраза 1 длиннее фразы 2')\n",
    "if len(long_phrase) < len(short_phrase):\n",
    "    print('Фраза 2 длиннее фразы 1')\n",
    "if len(long_phrase) == len(short_phrase):\n",
    "    print('Фразы равны')"
   ]
  },
  {
   "cell_type": "code",
   "execution_count": 40,
   "metadata": {},
   "outputs": [
    {
     "name": "stdout",
     "output_type": "stream",
     "text": [
      "Введите год: 2020\n",
      "Високосный год\n"
     ]
    }
   ],
   "source": [
    "#Задание 2\n",
    "year = int(input('Введите год: '))\n",
    "if (year % 4 == 0) and (year % 100 != 0) or (year % 400 == 0):\n",
    "    print('Високосный год')\n",
    "else:\n",
    "    print('Обычный год')"
   ]
  },
  {
   "cell_type": "code",
   "execution_count": 41,
   "metadata": {},
   "outputs": [
    {
     "name": "stdout",
     "output_type": "stream",
     "text": [
      "Введите день: 21\n",
      "Введите название месяца: сентябрь\n",
      "Дева\n"
     ]
    }
   ],
   "source": [
    "#Задание 3\n",
    "day = int(input('Введите день: '))\n",
    "month = input('Введите название месяца: ')\n",
    "if month.lower() == 'январь' and day >= 21 and day <= 31:\n",
    "    print('Водолей')\n",
    "elif month.lower() == 'февраль' and day >= 1 and day <= 18:\n",
    "    print('Водолей')\n",
    "elif month.lower() == 'февраль' and day >= 19 and day <= 29:\n",
    "    print('Рыбы')\n",
    "elif month.lower() == 'март' and day >= 1 and day <= 20:\n",
    "    print('Рыбы')\n",
    "elif month.lower() == 'март' and day >= 21 and day <= 31:\n",
    "    print('Овен')\n",
    "elif month.lower() == 'апрель' and day >= 1 and day <= 20:\n",
    "    print('Овен')\n",
    "elif month.lower() == 'апрель' and day >= 21 and day <= 30:\n",
    "    print('Телец')\n",
    "elif month.lower() == 'май' and day >= 1 and day <= 20:\n",
    "    print('Телец')\n",
    "elif month.lower() == 'май' and day >= 21 and day <= 31:\n",
    "    print('Близнецы')\n",
    "elif month.lower() == 'июнь' and day >= 1 and day <= 21:\n",
    "    print('Близнецы')\n",
    "elif month.lower() == 'июнь' and day >= 22 and day <= 30:\n",
    "    print('Рак')\n",
    "elif month.lower() == 'июль' and day >= 1 and day <= 22:\n",
    "    print('Рак')\n",
    "elif month.lower() == 'июль' and day >= 23 and day <= 31:\n",
    "    print('Лев')\n",
    "elif month.lower() == 'август' and day >= 1 and day <= 23:\n",
    "    print('Лев')\n",
    "elif month.lower() == 'август' and day >= 24 and day <= 31:\n",
    "    print ('Дева')\n",
    "elif month.lower() == 'сентябрь' and day >= 1 and day <= 23:\n",
    "    print('Дева')\n",
    "elif month.lower() == 'сентябрь' and day >= 24 and day <= 30:\n",
    "    print('Весы')\n",
    "elif month.lower() == 'октябрь' and day >= 1 and day <= 23:\n",
    "    print('Весы')\n",
    "elif month.lower() == 'октябрь' and day >= 24 and day <= 31:\n",
    "    print('Скорпион')\n",
    "elif month.lower() == 'ноябрь' and day >= 1 and day <= 22:\n",
    "    print('Скорпион')\n",
    "elif month.lower() == 'ноябрь' and day >= 23 and day <= 31:\n",
    "    print('Стрелец')\n",
    "elif month.lower() == 'декабрь' and day >= 1 and day <= 21:\n",
    "    print('Стрелец')\n",
    "elif month.lower() == 'декабрь' and day >= 22 and day <= 31:\n",
    "    print('Козерог')\n",
    "elif month.lower() == 'январь' and day >= 1 and day <= 20:\n",
    "    print('Козерог')\n",
    "else:\n",
    "    print('Начните сначала и укажите данные корректно')"
   ]
  },
  {
   "cell_type": "code",
   "execution_count": 43,
   "metadata": {},
   "outputs": [
    {
     "name": "stdout",
     "output_type": "stream",
     "text": [
      "Введите ширину: 5\n",
      "Введите длину: 5\n",
      "Введите высоту: 5\n",
      "Коробка №1\n"
     ]
    }
   ],
   "source": [
    "#Задание 4\n",
    "width = int(input('Введите ширину: '))\n",
    "length = int(input('Введите длину: '))\n",
    "height = int(input('Введите высоту: '))\n",
    "if length > 200:\n",
    "    print('Упаковка для лыж')\n",
    "elif width < 15 and length < 15 and height < 15:\n",
    "    print('Коробка №1')\n",
    "elif length > 15 and length < 50 or width > 15 and width < 50 or height > 15 and height < 50:\n",
    "    print('Коробка №2')\n",
    "else:\n",
    "    print ('Стандартная коробка №3')"
   ]
  },
  {
   "cell_type": "code",
   "execution_count": null,
   "metadata": {},
   "outputs": [],
   "source": []
  },
  {
   "cell_type": "code",
   "execution_count": null,
   "metadata": {},
   "outputs": [],
   "source": []
  }
 ],
 "metadata": {
  "kernelspec": {
   "display_name": "Python 3",
   "language": "python",
   "name": "python3"
  },
  "language_info": {
   "codemirror_mode": {
    "name": "ipython",
    "version": 3
   },
   "file_extension": ".py",
   "mimetype": "text/x-python",
   "name": "python",
   "nbconvert_exporter": "python",
   "pygments_lexer": "ipython3",
   "version": "3.7.6"
  }
 },
 "nbformat": 4,
 "nbformat_minor": 4
}
