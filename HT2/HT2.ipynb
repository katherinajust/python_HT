{
 "cells": [
  {
   "cell_type": "code",
   "execution_count": 1,
   "metadata": {},
   "outputs": [
    {
     "data": {
      "text/plain": [
       "True"
      ]
     },
     "execution_count": 1,
     "metadata": {},
     "output_type": "execute_result"
    }
   ],
   "source": [
    "#Задание 1\n",
    "long_phrase = 'Насколько проще было бы писать программы, если бы не заказчики'\n",
    "short_phrase = '640Кб должно хватить для любых задач. Билл Гейтс (по легенде)'\n",
    "len (long_phrase) > len (short_phrase) "
   ]
  },
  {
   "cell_type": "code",
   "execution_count": 4,
   "metadata": {},
   "outputs": [
    {
     "name": "stdout",
     "output_type": "stream",
     "text": [
      "Введите значение: 55436566\n",
      "Объем файла равен: 52.86842918395996 Mb\n"
     ]
    }
   ],
   "source": [
    "#Задание 2\n",
    "x = int(input('Введите значение: '))\n",
    "c = x / (1024*1024)\n",
    "print('Объем файла равен:', c, 'Mb')"
   ]
  },
  {
   "cell_type": "code",
   "execution_count": 5,
   "metadata": {},
   "outputs": [
    {
     "name": "stdout",
     "output_type": "stream",
     "text": [
      "Введите день: 15\n",
      "Введите название месяца: октябрь\n",
      "Весы\n"
     ]
    }
   ],
   "source": [
    "#Задание 3\n",
    "day = int(input('Введите день: '))\n",
    "month = input('Введите название месяца: ')\n",
    "if month.lower() == 'январь' and day >= 21 and day <= 31:\n",
    "    print ('Водолей')\n",
    "elif month.lower() == 'февраль' and day >= 1 and day <= 18:\n",
    "    print ('Водолей')\n",
    "elif month.lower() == 'февраль' and day >= 19 and day <= 29:\n",
    "    print ('Рыбы')\n",
    "elif month.lower() == 'март' and day >= 1 and day <= 20:\n",
    "    print ('Рыбы')\n",
    "elif month.lower() == 'март' and day >= 21 and day <= 31:\n",
    "    print ('Овен')\n",
    "elif month.lower() == 'апрель' and day >= 1 and day <= 20:\n",
    "    print ('Овен')\n",
    "elif month.lower() == 'апрель' and day >= 21 and day <= 30:\n",
    "    print ('Телец')\n",
    "elif month.lower() == 'май' and day >= 1 and day <= 20:\n",
    "    print ('Телец')\n",
    "elif month.lower() == 'май' and day >= 21 and day <= 31:\n",
    "    print ('Близнецы')\n",
    "elif month.lower() == 'июнь' and day >= 1 and day <= 21:\n",
    "    print ('Близнецы')\n",
    "elif month.lower() == 'июнь' and day >= 22 and day <= 30:\n",
    "    print ('Рак')\n",
    "elif month.lower() == 'июль' and day >= 1 and day <= 22:\n",
    "    print ('Рак')\n",
    "elif month.lower() == 'июль' and day >= 23 and day <= 31:\n",
    "    print ('Лев')\n",
    "elif month.lower() == 'август' and day >= 1 and day <= 23:\n",
    "    print ('Лев')\n",
    "elif month.lower() == 'август' and day >= 24 and day <= 31:\n",
    "    print ('Дева')\n",
    "elif month.lower() == 'сентябрь' and day >= 1 and day <= 23:\n",
    "    print ('Дева')\n",
    "elif month.lower() == 'сентябрь' and day >= 24 and day <= 30:\n",
    "    print ('Весы')\n",
    "elif month.lower() == 'октябрь' and day >= 1 and day <= 23:\n",
    "    print ('Весы')\n",
    "elif month.lower() == 'октябрь' and day >= 24 and day <= 31:\n",
    "    print ('Скорпион')\n",
    "elif month.lower() == 'ноябрь' and day >= 1 and day <= 22:\n",
    "    print ('Скорпион')\n",
    "elif month.lower() == 'ноябрь' and day >= 23 and day <= 31:\n",
    "    print ('Стрелец')\n",
    "elif month.lower() == 'декабрь' and day >= 1 and day <= 21:\n",
    "    print ('Стрелец')\n",
    "elif month.lower() == 'декабрь' and day >= 22 and day <= 31:\n",
    "    print ('Козерог')\n",
    "elif month.lower() == 'январь' and day >= 1 and day <= 20:\n",
    "    print ('Козерог')\n",
    "else:\n",
    "    print('Начните сначала и укажите данные корректно')"
   ]
  },
  {
   "cell_type": "code",
   "execution_count": 6,
   "metadata": {},
   "outputs": [
    {
     "name": "stdout",
     "output_type": "stream",
     "text": [
      "Заработная плата в месяц: 100000\n",
      "Сколько процентов от ЗП уходит на ипотеку: 30\n",
      "Сколько процентов от ЗП уходит на повседневные нужды: 50\n",
      "Сколько раз в год приходит премия: 2\n",
      "На ипотеку потрачено:  360000.0 Накоплено за год:  340000.0\n"
     ]
    }
   ],
   "source": [
    "#Задание 4\n",
    "x = int(input('Заработная плата в месяц: '))\n",
    "a = int(input('Сколько процентов от ЗП уходит на ипотеку: '))\n",
    "b = int(input('Сколько процентов от ЗП уходит на повседневные нужды: '))\n",
    "c = int(input('Сколько раз в год приходит премия: '))\n",
    "d = (x - (a * x / 100) - (b * x / 100)) * 12 + (c * (x/2))\n",
    "e = (a * x / 100) * 12\n",
    "print('На ипотеку потрачено: ', e, 'Накоплено за год: ', d)"
   ]
  },
  {
   "cell_type": "code",
   "execution_count": null,
   "metadata": {},
   "outputs": [],
   "source": []
  },
  {
   "cell_type": "code",
   "execution_count": null,
   "metadata": {},
   "outputs": [],
   "source": []
  }
 ],
 "metadata": {
  "kernelspec": {
   "display_name": "Python 3",
   "language": "python",
   "name": "python3"
  },
  "language_info": {
   "codemirror_mode": {
    "name": "ipython",
    "version": 3
   },
   "file_extension": ".py",
   "mimetype": "text/x-python",
   "name": "python",
   "nbconvert_exporter": "python",
   "pygments_lexer": "ipython3",
   "version": "3.7.6"
  }
 },
 "nbformat": 4,
 "nbformat_minor": 4
}
