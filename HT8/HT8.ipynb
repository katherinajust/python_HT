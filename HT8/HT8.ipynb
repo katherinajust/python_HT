{
 "cells": [
  {
   "cell_type": "code",
   "execution_count": 1,
   "metadata": {},
   "outputs": [],
   "source": [
    "#Задание 1\n",
    "from libs.exchange import Rate\n",
    "import requests"
   ]
  },
  {
   "cell_type": "code",
   "execution_count": 2,
   "metadata": {},
   "outputs": [],
   "source": [
    "#вариант а\n",
    "class Rate:\n",
    "    def __init__(self, format_='value'):\n",
    "        self.format = 'value'\n",
    "    \n",
    "    def max_value(self):\n",
    "        self.r = requests.get('https://www.cbr-xml-daily.ru/daily_json.js')\n",
    "        dict_rates = dict(self.r.json()['Valute'])\n",
    "        values_list = []\n",
    "        name_list = []\n",
    "        for value in dict_rates.values():\n",
    "            values_list.append(value['Value'])\n",
    "            name_list.append(value['Name'])\n",
    "        max_value = max(values_list)\n",
    "        total_list = zip(values_list, name_list)\n",
    "        total_list = list(total_list)\n",
    "        for el in total_list:\n",
    "            if max_value == el[0]:\n",
    "                print (el[0], el[1])"
   ]
  },
  {
   "cell_type": "code",
   "execution_count": 3,
   "metadata": {},
   "outputs": [
    {
     "name": "stdout",
     "output_type": "stream",
     "text": [
      "104.6735 СДР (специальные права заимствования)\n"
     ]
    }
   ],
   "source": [
    "Rate().max_value()"
   ]
  },
  {
   "cell_type": "code",
   "execution_count": 4,
   "metadata": {},
   "outputs": [],
   "source": [
    "#вариант б\n",
    "class Rate:\n",
    "    def __init__(self, format_='value'):\n",
    "        self.format = 'value'\n",
    "    \n",
    "    def max_value_new(self):\n",
    "        self.r = requests.get('https://www.cbr-xml-daily.ru/daily_json.js')\n",
    "        dict_rates = dict(self.r.json()['Valute'])\n",
    "        values_list = 0\n",
    "        name_list = []\n",
    "        for value in dict_rates.values():\n",
    "            if value['Value'] > values_list:\n",
    "                values_list = value['Value']\n",
    "                name_list = value['Name']\n",
    "        return values_list, name_list\n",
    "        #print (values_list, name_list)"
   ]
  },
  {
   "cell_type": "code",
   "execution_count": 5,
   "metadata": {},
   "outputs": [
    {
     "data": {
      "text/plain": [
       "(104.6735, 'СДР (специальные права заимствования)')"
      ]
     },
     "execution_count": 5,
     "metadata": {},
     "output_type": "execute_result"
    }
   ],
   "source": [
    "Rate().max_value_new()"
   ]
  },
  {
   "cell_type": "code",
   "execution_count": 6,
   "metadata": {},
   "outputs": [],
   "source": [
    "#Задание 2 "
   ]
  },
  {
   "cell_type": "code",
   "execution_count": 7,
   "metadata": {},
   "outputs": [],
   "source": [
    "class Rate:\n",
    "    def __init__(self, format_='value'):\n",
    "        self.format = format_\n",
    "    \n",
    "    def exchange_rates(self):\n",
    "        self.r = requests.get('https://www.cbr-xml-daily.ru/daily_json.js')\n",
    "        return self.r.json()['Valute']\n",
    "    \n",
    "    def make_format(self, currency):\n",
    "        response = self.exchange_rates()\n",
    "        \n",
    "        if currency in response:\n",
    "           \n",
    "            if self.format == 'full':\n",
    "                return response[currency]\n",
    "            self.diff = True\n",
    "            if self.format == 'value' and self.diff == True:\n",
    "                return response[currency]['Value'] - response[currency]['Previous']\n",
    "        \n",
    "        return 'Error'\n",
    "    \n",
    "    def eur(self):\n",
    "        return self.make_format('EUR')\n",
    "    \n",
    "    def usd(self):\n",
    "        return self.make_format('USD')\n",
    "    \n",
    "    def brl(self):\n",
    "        return self.make_format('BRL')"
   ]
  },
  {
   "cell_type": "code",
   "execution_count": 8,
   "metadata": {},
   "outputs": [
    {
     "data": {
      "text/plain": [
       "0.060900000000000176"
      ]
     },
     "execution_count": 8,
     "metadata": {},
     "output_type": "execute_result"
    }
   ],
   "source": [
    "Rate(format_='value').brl()"
   ]
  },
  {
   "cell_type": "code",
   "execution_count": 9,
   "metadata": {},
   "outputs": [],
   "source": [
    "#Задание 3\n",
    "class Employee:\n",
    "    def __init__(self, name, seniority, awards):\n",
    "        self.name = name\n",
    "        self.seniority = seniority\n",
    "        self.awards = awards \n",
    "        self.grade = 1\n",
    "    \n",
    "    def grade_up(self):\n",
    "        self.grade += 1\n",
    "    \n",
    "    def publish_grade(self):\n",
    "        print(self.name, self.grade)\n",
    "    \n",
    "    def check_if_it_is_time_for_upgrade(self):\n",
    "        pass"
   ]
  },
  {
   "cell_type": "code",
   "execution_count": 10,
   "metadata": {},
   "outputs": [],
   "source": [
    "class Developer(Employee):\n",
    "    def __init__(self, name, seniority):\n",
    "        super().__init__(name, seniority)\n",
    "    \n",
    "    def check_if_it_is_time_for_upgrade(self):\n",
    "        self.seniority += 1\n",
    "        \n",
    "        if self.seniority % 5 == 0:\n",
    "            self.grade_up()\n",
    "        \n",
    "        return self.publish_grade()"
   ]
  },
  {
   "cell_type": "code",
   "execution_count": 11,
   "metadata": {},
   "outputs": [],
   "source": [
    "class Designer(Employee):\n",
    "    def __init__(self, name, seniority, awards):\n",
    "        super().__init__(name, seniority, awards)\n",
    "        \n",
    "    def check_if_it_is_time_for_upgrade(self):\n",
    "        \n",
    "        self.seniority += 1\n",
    "        \n",
    "        self.grade = int((self.seniority + self.awards*2) // 7)\n",
    "        if (self.seniority + self.awards*2) // 7 >= 0:\n",
    "            self.grade_up()\n",
    "        \n",
    "        return self.publish_grade()"
   ]
  },
  {
   "cell_type": "code",
   "execution_count": 14,
   "metadata": {},
   "outputs": [],
   "source": [
    "elena = Designer('Елена', seniority=0, awards=4)"
   ]
  },
  {
   "cell_type": "code",
   "execution_count": 15,
   "metadata": {},
   "outputs": [
    {
     "name": "stdout",
     "output_type": "stream",
     "text": [
      "Елена 2\n",
      "Елена 2\n",
      "Елена 2\n",
      "Елена 2\n",
      "Елена 2\n",
      "Елена 3\n",
      "Елена 3\n",
      "Елена 3\n",
      "Елена 3\n",
      "Елена 3\n",
      "Елена 3\n",
      "Елена 3\n",
      "Елена 4\n",
      "Елена 4\n",
      "Елена 4\n",
      "Елена 4\n",
      "Елена 4\n",
      "Елена 4\n",
      "Елена 4\n",
      "Елена 5\n"
     ]
    }
   ],
   "source": [
    "for i in range(20):\n",
    "    elena.check_if_it_is_time_for_upgrade()"
   ]
  },
  {
   "cell_type": "code",
   "execution_count": null,
   "metadata": {},
   "outputs": [],
   "source": []
  }
 ],
 "metadata": {
  "kernelspec": {
   "display_name": "Python 3",
   "language": "python",
   "name": "python3"
  },
  "language_info": {
   "codemirror_mode": {
    "name": "ipython",
    "version": 3
   },
   "file_extension": ".py",
   "mimetype": "text/x-python",
   "name": "python",
   "nbconvert_exporter": "python",
   "pygments_lexer": "ipython3",
   "version": "3.7.6"
  }
 },
 "nbformat": 4,
 "nbformat_minor": 4
}
