{
 "cells": [
  {
   "cell_type": "code",
   "execution_count": 4,
   "metadata": {},
   "outputs": [
    {
     "name": "stdout",
     "output_type": "stream",
     "text": [
      "Введите слово: erty\n",
      "rt\n"
     ]
    }
   ],
   "source": [
    "#Задача 1\n",
    "x = input('Введите слово: ')\n",
    "length = len(x)\n",
    "if length % 2 == 0:\n",
    "    print(x[length//2-1:length//2+1])\n",
    "else:\n",
    "    print(x[length//2])"
   ]
  },
  {
   "cell_type": "code",
   "execution_count": 5,
   "metadata": {},
   "outputs": [
    {
     "name": "stdout",
     "output_type": "stream",
     "text": [
      "Введите число: 1\n",
      "Введите число: 2\n",
      "Введите число: 2\n",
      "Введите число: 0\n",
      "Результат: 5\n"
     ]
    }
   ],
   "source": [
    "#Задача 2\n",
    "a = int(input('Введите число: '))\n",
    "sum = 0\n",
    "while a != 0:\n",
    "    sum += a\n",
    "    a = int(input('Введите число: '))\n",
    "print('Результат:', sum)"
   ]
  },
  {
   "cell_type": "code",
   "execution_count": 6,
   "metadata": {},
   "outputs": [
    {
     "name": "stdout",
     "output_type": "stream",
     "text": [
      "Идеальные пары:\n",
      "Alex и Emma\n",
      "Arthur и Kate\n",
      "John и Kira\n",
      "Peter и Liza\n",
      "Richard и Trisha\n"
     ]
    }
   ],
   "source": [
    "#Задача 3\n",
    "boys = ['Peter', 'Alex', 'John', 'Arthur','Richard']\n",
    "girls = ['Kate', 'Liza', 'Kira', 'Emma', 'Trisha']\n",
    "boys.sort()\n",
    "girls.sort()\n",
    "len_boys = len(boys)\n",
    "len_girls = len(girls)\n",
    "if len_boys != len_girls:\n",
    "    print ('Кто-то может остаться без пары!')\n",
    "else:\n",
    "    print('Идеальные пары:')\n",
    "    boys_girls = zip(boys, girls)\n",
    "    for couple in boys_girls:\n",
    "        print(f'{couple[0]} и {couple[1]}')"
   ]
  },
  {
   "cell_type": "code",
   "execution_count": 1,
   "metadata": {},
   "outputs": [
    {
     "name": "stdout",
     "output_type": "stream",
     "text": [
      "Thailand средняя t = 23.86\n",
      "Germany средняя t = 13.71\n",
      "Russia средняя t = 3.71\n",
      "Poland средняя t = 11.86\n"
     ]
    }
   ],
   "source": [
    "#Задача 4\n",
    "countries_temperature = [\n",
    " ['Thailand', [75.2, 77, 78.8, 73.4, 68, 75.2, 77]],\n",
    " ['Germany', [57.2, 55.4, 59, 59, 53.6, 55.4, 57.2]],\n",
    " ['Russia', [35.6, 37.4, 39.2, 41, 42.8, 39.2, 35.6]],\n",
    " ['Poland', [50, 50, 53.6, 57.2, 55.4, 55.4, 51.8]],\n",
    "]\n",
    "for country in countries_temperature:\n",
    "    print (country[0], 'средняя t =', round((sum(country[1])/len(country[1])-32)/1.8, 2))"
   ]
  },
  {
   "cell_type": "code",
   "execution_count": 2,
   "metadata": {},
   "outputs": [
    {
     "name": "stdout",
     "output_type": "stream",
     "text": [
      "Среднее значение просмотров: 23.25\n"
     ]
    }
   ],
   "source": [
    "#Задача 5\n",
    "stream = [\n",
    "    '2018-01-01,user1,3',\n",
    "    '2018-01-07,user1,4',\n",
    "    '2018-03-29,user1,1',\n",
    "    '2018-04-04,user1,13',\n",
    "    '2018-01-05,user2,7',\n",
    "    '2018-06-14,user3,4',\n",
    "    '2018-07-02,user3,10',\n",
    "    '2018-03-21,user4,19',\n",
    "    '2018-03-22,user4,4',\n",
    "    '2018-04-22,user4,8',\n",
    "    '2018-05-03,user4,9',\n",
    "    '2018-05-11,user4,11',\n",
    "]\n",
    "\n",
    "new_stream = [new_stream.split(',') for new_stream in stream]\n",
    "for logs in new_stream:\n",
    "    logs[2] = int(logs[2])\n",
    "    \n",
    "logs_list = [x[2] for x in new_stream]\n",
    "users_list = [c[1] for c in new_stream]\n",
    "unique_users = set(users_list)\n",
    "print (f'Среднее значение просмотров: {sum(logs_list)/len(unique_users)}')"
   ]
  },
  {
   "cell_type": "code",
   "execution_count": 3,
   "metadata": {},
   "outputs": [
    {
     "name": "stdout",
     "output_type": "stream",
     "text": [
      "Введите дату в формате гггг-мм-дд: 2018-01-01\n",
      "Введите наименование кампании: yandex\n",
      "65\n"
     ]
    }
   ],
   "source": [
    "#Задача 6\n",
    "\n",
    "x = input('Введите дату в формате гггг-мм-дд: ')\n",
    "y = input('Введите наименование кампании: ').lower()\n",
    "\n",
    "stats = [\n",
    "    ['2018-01-01', 'google', 25],\n",
    "    ['2018-01-01', 'yandex', 65],\n",
    "    ['2018-01-01', 'market', 89],\n",
    "    ['2018-01-02', 'google', 574],\n",
    "    ['2018-01-02', 'yandex', 249],\n",
    "    ['2018-01-02', 'market', 994],\n",
    "    ['2018-01-03', 'google', 1843],\n",
    "    ['2018-01-03', 'yandex', 1327],\n",
    "    ['2018-01-03', 'market', 1764],\n",
    "]\n",
    "\n",
    "for algh in stats:\n",
    "    if x == algh[0] and y == algh[1]:\n",
    "        print (algh[2])\n",
    "        break\n",
    "if x != algh[0] or y != algh[1]:\n",
    "    print ('ERROR')"
   ]
  },
  {
   "cell_type": "code",
   "execution_count": null,
   "metadata": {},
   "outputs": [],
   "source": []
  }
 ],
 "metadata": {
  "kernelspec": {
   "display_name": "Python 3",
   "language": "python",
   "name": "python3"
  },
  "language_info": {
   "codemirror_mode": {
    "name": "ipython",
    "version": 3
   },
   "file_extension": ".py",
   "mimetype": "text/x-python",
   "name": "python",
   "nbconvert_exporter": "python",
   "pygments_lexer": "ipython3",
   "version": "3.7.6"
  }
 },
 "nbformat": 4,
 "nbformat_minor": 4
}
