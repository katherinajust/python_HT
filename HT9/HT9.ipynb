{
 "cells": [
  {
   "cell_type": "code",
   "execution_count": 1,
   "metadata": {},
   "outputs": [],
   "source": [
    "#Задание 1\n",
    "import re"
   ]
  },
  {
   "cell_type": "code",
   "execution_count": 2,
   "metadata": {},
   "outputs": [],
   "source": [
    "def car_number():\n",
    "    task = input('Введите номер машины и регион с указанием страны слитно: ')\n",
    "    result = re.findall(r'\\w{1}\\d{3}\\w{2}\\d{2,3}\\w{3}', task)\n",
    "    if result:\n",
    "        return re.findall(r'\\w{1}\\d{3}\\w{2}|\\d{2,3}', task)\n",
    "    else:\n",
    "        return 'ошибка ввода'"
   ]
  },
  {
   "cell_type": "code",
   "execution_count": 3,
   "metadata": {},
   "outputs": [
    {
     "name": "stdout",
     "output_type": "stream",
     "text": [
      "Введите номер машины и регион с указанием страны слитно: С078МК78RUS\n"
     ]
    },
    {
     "data": {
      "text/plain": [
       "['С078МК', '78']"
      ]
     },
     "execution_count": 3,
     "metadata": {},
     "output_type": "execute_result"
    }
   ],
   "source": [
    "car_number()"
   ]
  },
  {
   "cell_type": "code",
   "execution_count": 4,
   "metadata": {},
   "outputs": [
    {
     "name": "stdout",
     "output_type": "stream",
     "text": [
      "['nechay123@ya.ru']\n"
     ]
    }
   ],
   "source": [
    "#Задание 2\n",
    "task_1 = 'nechay123@ya.ru'\n",
    "result = re.findall(r'([a-zA-Z0-9][^,.:;!#%*()=+{}\"''/\\|\\s]{4,}\\@{1}\\w{2,}\\.{1}[a-zA-Z]{2,4}){1,320}', task_1)\n",
    "print (result)"
   ]
  },
  {
   "cell_type": "code",
   "execution_count": 5,
   "metadata": {},
   "outputs": [],
   "source": [
    "#Задание 3\n",
    "def check():\n",
    "    text = input('Ввод: ')\n",
    "    result = re.sub(r'(?i)(\\w+\\b)\\s+(\\1\\b)', r'\\1', text)\n",
    "    print(result) "
   ]
  },
  {
   "cell_type": "code",
   "execution_count": 6,
   "metadata": {},
   "outputs": [
    {
     "name": "stdout",
     "output_type": "stream",
     "text": [
      "Ввод: Гуляю гуляю по по Москве\n",
      "Гуляю по Москве\n"
     ]
    }
   ],
   "source": [
    "check()"
   ]
  },
  {
   "cell_type": "code",
   "execution_count": 7,
   "metadata": {},
   "outputs": [],
   "source": [
    "#Задание 4\n",
    "def mobile_check():    \n",
    "    mobile = input('Введите номер мобильного телефона: ')\n",
    "    new_mobile = mobile.replace(' ','').replace('-','').replace('+','')\n",
    "    if len(new_mobile) == 10 or len(new_mobile) == 11:\n",
    "        result = re.findall(r'([7-8])(\\d{3})(\\d{3})(\\d{2})(\\d{2})', new_mobile)\n",
    "        if result:\n",
    "            new_result = re.sub(r'([7-8])(\\d{3})(\\d{3})(\\d{2})(\\d{2})', r'+7(\\2)-\\3-\\4-\\5', new_mobile)\n",
    "            return new_result\n",
    "        else:\n",
    "            return 'Вы некорректно указали номер'\n",
    "    else:\n",
    "        return 'Вы некорректно указали номер'"
   ]
  },
  {
   "cell_type": "code",
   "execution_count": 8,
   "metadata": {},
   "outputs": [
    {
     "name": "stdout",
     "output_type": "stream",
     "text": [
      "Введите номер мобильного телефона: 8982 626 9380\n"
     ]
    },
    {
     "data": {
      "text/plain": [
       "'+7(982)-626-93-80'"
      ]
     },
     "execution_count": 8,
     "metadata": {},
     "output_type": "execute_result"
    }
   ],
   "source": [
    "mobile_check()"
   ]
  }
 ],
 "metadata": {
  "kernelspec": {
   "display_name": "Python 3",
   "language": "python",
   "name": "python3"
  },
  "language_info": {
   "codemirror_mode": {
    "name": "ipython",
    "version": 3
   },
   "file_extension": ".py",
   "mimetype": "text/x-python",
   "name": "python",
   "nbconvert_exporter": "python",
   "pygments_lexer": "ipython3",
   "version": "3.7.6"
  }
 },
 "nbformat": 4,
 "nbformat_minor": 4
}
