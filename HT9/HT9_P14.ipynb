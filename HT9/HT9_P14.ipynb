{
 "cells": [
  {
   "cell_type": "code",
   "execution_count": 1,
   "metadata": {},
   "outputs": [],
   "source": [
    "#Задание 1\n",
    "import re"
   ]
  },
  {
   "cell_type": "code",
   "execution_count": 2,
   "metadata": {},
   "outputs": [],
   "source": [
    "def car_number():\n",
    "    task = input('Введите номер машины: ')\n",
    "    result = re.findall(r'[АВЕКМНОРСТУХ]{1}\\d{3}[АВЕКМНОРСТУХ]{2}\\d{2,3}', task)\n",
    "    if result:\n",
    "        car_num = re.findall(r'[АВЕКМНОРСТУХ]{1}\\d{3}[АВЕКМНОРСТУХ]{2}|\\d{2,3}', task)\n",
    "        print ('Номер', car_num[0], 'валиден.', 'Регион:', car_num[1]) \n",
    "    else:\n",
    "        print ('ошибка ввода')"
   ]
  },
  {
   "cell_type": "code",
   "execution_count": 3,
   "metadata": {},
   "outputs": [
    {
     "name": "stdout",
     "output_type": "stream",
     "text": [
      "Введите номер машины: А678ВС99\n",
      "Номер А678ВС валиден. Регион: 99\n"
     ]
    }
   ],
   "source": [
    "car_number()"
   ]
  },
  {
   "cell_type": "code",
   "execution_count": 4,
   "metadata": {},
   "outputs": [],
   "source": [
    "#Задание 2\n",
    "def check():\n",
    "    text = input('Ввод: ')\n",
    "    result = re.sub(r'(?i)(\\w+\\b)\\s+(\\1\\b)', r'\\1', text)\n",
    "    print(result) "
   ]
  },
  {
   "cell_type": "code",
   "execution_count": 5,
   "metadata": {},
   "outputs": [
    {
     "name": "stdout",
     "output_type": "stream",
     "text": [
      "Ввод: Шла шла Саша саша по шоссе\n",
      "Шла Саша по шоссе\n"
     ]
    }
   ],
   "source": [
    "check()"
   ]
  },
  {
   "cell_type": "code",
   "execution_count": 6,
   "metadata": {},
   "outputs": [],
   "source": [
    "#Задание 3\n",
    "def abbrev():\n",
    "    some_words = input('Введите текст: ')\n",
    "    result = re.findall(r'(\\w)\\w*', some_words)\n",
    "    new_result = [x.upper() for x in result]\n",
    "    text = ''.join(new_result)\n",
    "    print(text)"
   ]
  },
  {
   "cell_type": "code",
   "execution_count": 7,
   "metadata": {},
   "outputs": [
    {
     "name": "stdout",
     "output_type": "stream",
     "text": [
      "Введите текст: Уральский экономический университет\n",
      "УЭУ\n"
     ]
    }
   ],
   "source": [
    "abbrev()"
   ]
  },
  {
   "cell_type": "code",
   "execution_count": 8,
   "metadata": {},
   "outputs": [
    {
     "name": "stdout",
     "output_type": "stream",
     "text": [
      "Введите список адресов через пробел: test@gmail.com, xyz@test.in, test@ya.ru, xyz@mail.ru, xyz@ya.ru\n",
      "ya.ru 2\n",
      "mail.ru 1\n",
      "test.in 1\n",
      "gmail.com 1\n"
     ]
    }
   ],
   "source": [
    "emails = input('Введите список адресов через пробел: ').split(', ')\n",
    "list_emails = []\n",
    "for el in emails:\n",
    "    result = re.sub(r'(\\S+\\@{1})(\\w{2,}\\.{1}[a-zA-Z]{2,4})', r'\\2', el)\n",
    "    list_emails.append(result)\n",
    "new_result = set(list_emails)\n",
    "for el in new_result:\n",
    "    print(el, list_emails.count(el))"
   ]
  },
  {
   "cell_type": "code",
   "execution_count": 11,
   "metadata": {},
   "outputs": [],
   "source": [
    "#Задание 6\n",
    "def mobile_check():    \n",
    "    mobile = input('Введите номер мобильного телефона: ')\n",
    "    new_mobile = mobile.replace(' ','').replace('-','').replace('+','')\n",
    "    if len(new_mobile) == 10 or len(new_mobile) == 11:\n",
    "        result = re.findall(r'([7-8])(\\d{3})(\\d{3})(\\d{2})(\\d{2})', new_mobile)\n",
    "        if result:\n",
    "            new_result = re.sub(r'([7-8])(\\d{3})(\\d{3})(\\d{2})(\\d{2})', r'+7(\\2)-\\3-\\4-\\5', new_mobile)\n",
    "            return new_result\n",
    "        else:\n",
    "            return 'Вы некорректно указали номер'\n",
    "    else:\n",
    "        return 'Вы некорректно указали номер'"
   ]
  },
  {
   "cell_type": "code",
   "execution_count": 12,
   "metadata": {},
   "outputs": [
    {
     "name": "stdout",
     "output_type": "stream",
     "text": [
      "Введите номер мобильного телефона: 8922 20 10 567\n"
     ]
    },
    {
     "data": {
      "text/plain": [
       "'+7(922)-201-05-67'"
      ]
     },
     "execution_count": 12,
     "metadata": {},
     "output_type": "execute_result"
    }
   ],
   "source": [
    "mobile_check()"
   ]
  }
 ],
 "metadata": {
  "kernelspec": {
   "display_name": "Python 3",
   "language": "python",
   "name": "python3"
  },
  "language_info": {
   "codemirror_mode": {
    "name": "ipython",
    "version": 3
   },
   "file_extension": ".py",
   "mimetype": "text/x-python",
   "name": "python",
   "nbconvert_exporter": "python",
   "pygments_lexer": "ipython3",
   "version": "3.7.6"
  }
 },
 "nbformat": 4,
 "nbformat_minor": 4
}
